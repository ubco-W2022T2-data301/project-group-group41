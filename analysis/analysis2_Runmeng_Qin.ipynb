{
 "cells": [
  {
   "cell_type": "markdown",
   "metadata": {},
   "source": [
    "# Runmeng Qin"
   ]
  },
  {
   "cell_type": "markdown",
   "metadata": {},
   "source": [
    "## Research question/interests\n",
    "\n",
    "## Suppose SPI ratings alone were used to predict the winner of each game, how accurate would it be? Does the accuracy rate go up as more teams advance?"
   ]
  },
  {
   "cell_type": "markdown",
   "metadata": {},
   "source": [
    "##### Each team has SPI ratings for each game,  which are a combination of each team's recent match results and the overall quality of its World Cup roster.  I'd be curious to see how well SPI ratings alone predicted the winner versus the real score, and whether that accuracy improves as more teams advance."
   ]
  },
  {
   "cell_type": "code",
   "execution_count": null,
   "metadata": {},
   "outputs": [],
   "source": [
    "import pandas as pd\n",
    "df=pd.read_csv(\"/Users/adaqin/DATA301/project-group-group41/data/raw/wc_matches.csv\")"
   ]
  },
  {
   "cell_type": "code",
   "execution_count": null,
   "metadata": {},
   "outputs": [],
   "source": [
    "df_use=df[['date','team1','team2','spi1','spi2','score1','score2']]"
   ]
  },
  {
   "cell_type": "code",
   "execution_count": null,
   "metadata": {},
   "outputs": [
    {
     "name": "stdout",
     "output_type": "stream",
     "text": [
      "          date      team1         team2   spi1   spi2  score1  score2\n",
      "0   2022-11-20      Qatar       Ecuador  51.00  72.74       0       2\n",
      "1   2022-11-21    England          Iran  85.96  62.17       6       2\n",
      "2   2022-11-21    Senegal   Netherlands  73.84  86.01       0       2\n",
      "3   2022-11-21        USA         Wales  74.83  65.58       1       1\n",
      "4   2022-11-22  Argentina  Saudi Arabia  87.21  56.87       1       2\n",
      "..         ...        ...           ...    ...    ...     ...     ...\n",
      "59  2022-12-10    England        France  87.59  87.53       1       2\n",
      "60  2022-12-13  Argentina       Croatia  87.46  79.37       3       0\n",
      "61  2022-12-14     France       Morocco  87.72  75.13       2       0\n",
      "62  2022-12-17    Croatia       Morocco  77.65  73.92       2       1\n",
      "63  2022-12-18  Argentina        France  88.86  88.41       3       3\n",
      "\n",
      "[64 rows x 7 columns]\n"
     ]
    }
   ],
   "source": [
    "print(df_use)"
   ]
  },
  {
   "cell_type": "code",
   "execution_count": null,
   "metadata": {},
   "outputs": [],
   "source": []
  }
 ],
 "metadata": {
  "kernelspec": {
   "display_name": "Python 3 (ipykernel)",
   "language": "python",
   "name": "python3"
  }
 },
 "nbformat": 4,
 "nbformat_minor": 4
}
