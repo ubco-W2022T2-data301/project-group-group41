{
 "cells": [
  {
   "cell_type": "markdown",
   "metadata": {},
   "source": [
    "# Runmeng Qin"
   ]
  },
  {
   "cell_type": "markdown",
   "metadata": {},
   "source": [
    "## Research question/interests\n",
    "\n",
    "## How effective are SPI ratings as the only predictor of match outcomes in the 2022 World Cup, and how does their accuracy change over the course of the tournament as more teams advance?\n",
    "\n"
   ]
  },
  {
   "cell_type": "markdown",
   "metadata": {},
   "source": [
    "#### Each team has SPI ratings for each game,  which are a combination of each team's recent match results and the overall quality of its World Cup roster.  I'd be curious to see how well SPI ratings alone predicted the winner versus the real score, and whether that accuracy improves as more teams advance. \n",
    "\n",
    "#### I'm going to do is clean the data(wc_matches.csv) and group separate datasets by game date and team. I will use the columns of 'date', 'team1', 'team2', 'spi1', 'spi2', 'score1', 'score2' as the data basis for my research question. These data should be able to support my research question by comparing the relationship between team, spi and score under different dates.In addition, the potential relationship can be analyzed based on the score and spi ratio between the two teams in each match.\n",
    "\n",
    "#### SPI is based on goals scored and allowed, not wins, losses and draws. Therefore, through the following analysis, the relationship between pre-match spi and post-match score can be observed. "
   ]
  },
  {
   "cell_type": "code",
   "execution_count": null,
   "metadata": {},
   "outputs": [],
   "source": [
    "import pandas as pd\n",
    "df=pd.read_csv(\"https://projects.fivethirtyeight.com/soccer-api/international/2022/wc_matches.csv\")"
   ]
  },
  {
   "cell_type": "code",
   "execution_count": null,
   "metadata": {},
   "outputs": [],
   "source": [
    "df_use=df[['date','team1','team2','spi1','spi2','score1','score2']]"
   ]
  },
  {
   "cell_type": "code",
   "execution_count": null,
   "metadata": {},
   "outputs": [
    {
     "data": {
      "text/html": [
       "<div>\n",
       "<style scoped>\n",
       "    .dataframe tbody tr th:only-of-type {\n",
       "        vertical-align: middle;\n",
       "    }\n",
       "\n",
       "    .dataframe tbody tr th {\n",
       "        vertical-align: top;\n",
       "    }\n",
       "\n",
       "    .dataframe thead th {\n",
       "        text-align: right;\n",
       "    }\n",
       "</style>\n",
       "<table border=\"1\" class=\"dataframe\">\n",
       "  <thead>\n",
       "    <tr style=\"text-align: right;\">\n",
       "      <th></th>\n",
       "      <th>date</th>\n",
       "      <th>team1</th>\n",
       "      <th>team2</th>\n",
       "      <th>spi1</th>\n",
       "      <th>spi2</th>\n",
       "      <th>score1</th>\n",
       "      <th>score2</th>\n",
       "    </tr>\n",
       "  </thead>\n",
       "  <tbody>\n",
       "    <tr>\n",
       "      <th>0</th>\n",
       "      <td>2022-11-20</td>\n",
       "      <td>Qatar</td>\n",
       "      <td>Ecuador</td>\n",
       "      <td>51.00</td>\n",
       "      <td>72.74</td>\n",
       "      <td>0</td>\n",
       "      <td>2</td>\n",
       "    </tr>\n",
       "    <tr>\n",
       "      <th>1</th>\n",
       "      <td>2022-11-21</td>\n",
       "      <td>England</td>\n",
       "      <td>Iran</td>\n",
       "      <td>85.96</td>\n",
       "      <td>62.17</td>\n",
       "      <td>6</td>\n",
       "      <td>2</td>\n",
       "    </tr>\n",
       "    <tr>\n",
       "      <th>2</th>\n",
       "      <td>2022-11-21</td>\n",
       "      <td>Senegal</td>\n",
       "      <td>Netherlands</td>\n",
       "      <td>73.84</td>\n",
       "      <td>86.01</td>\n",
       "      <td>0</td>\n",
       "      <td>2</td>\n",
       "    </tr>\n",
       "    <tr>\n",
       "      <th>3</th>\n",
       "      <td>2022-11-21</td>\n",
       "      <td>USA</td>\n",
       "      <td>Wales</td>\n",
       "      <td>74.83</td>\n",
       "      <td>65.58</td>\n",
       "      <td>1</td>\n",
       "      <td>1</td>\n",
       "    </tr>\n",
       "    <tr>\n",
       "      <th>4</th>\n",
       "      <td>2022-11-22</td>\n",
       "      <td>Argentina</td>\n",
       "      <td>Saudi Arabia</td>\n",
       "      <td>87.21</td>\n",
       "      <td>56.87</td>\n",
       "      <td>1</td>\n",
       "      <td>2</td>\n",
       "    </tr>\n",
       "  </tbody>\n",
       "</table>\n",
       "</div>"
      ],
      "text/plain": [
       "         date      team1         team2   spi1   spi2  score1  score2\n",
       "0  2022-11-20      Qatar       Ecuador  51.00  72.74       0       2\n",
       "1  2022-11-21    England          Iran  85.96  62.17       6       2\n",
       "2  2022-11-21    Senegal   Netherlands  73.84  86.01       0       2\n",
       "3  2022-11-21        USA         Wales  74.83  65.58       1       1\n",
       "4  2022-11-22  Argentina  Saudi Arabia  87.21  56.87       1       2"
      ]
     },
     "execution_count": null,
     "metadata": {},
     "output_type": "execute_result"
    }
   ],
   "source": [
    "df_use.head()"
   ]
  }
 ],
 "metadata": {
  "kernelspec": {
   "display_name": "Python 3 (ipykernel)",
   "language": "python",
   "name": "python3"
  }
 },
 "nbformat": 4,
 "nbformat_minor": 4
}
