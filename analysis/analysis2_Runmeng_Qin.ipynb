{
 "cells": [
  {
   "cell_type": "markdown",
   "metadata": {},
   "source": [
    "# Runmeng Qin"
   ]
  },
  {
   "cell_type": "markdown",
   "metadata": {},
   "source": [
    "## Research question/interests (initial)\n",
    "\n",
    "### How effective are SPI ratings as the only predictor of match outcomes in the 2022 World Cup, and how does their accuracy change over the course of the tournament as more teams advance?\n",
    "\n"
   ]
  },
  {
   "cell_type": "markdown",
   "metadata": {},
   "source": [
    "#### Each team has SPI ratings for each game,  which are a combination of each team's recent match results and the overall quality of its World Cup roster.  I'd be curious to see how well SPI ratings alone predicted the winner versus the real score, and whether that accuracy improves as more teams advance. \n",
    "\n",
    "#### I'm going to do is clean the data(wc_matches.csv) and group separate datasets by game date and team. I will use the columns of 'date', 'team1', 'team2', 'spi1', 'spi2', 'score1', 'score2' as the data basis for my research question. These data should be able to support my research question by comparing the relationship between team, spi and score under different dates.In addition, the potential relationship can be analyzed based on the score and spi ratio between the two teams in each match.\n",
    "\n",
    "#### SPI is based on goals scored and allowed, not wins, losses and draws. Therefore, through the following analysis, the relationship between pre-match spi and post-match score can be observed. "
   ]
  },
  {
   "cell_type": "code",
   "execution_count": null,
   "metadata": {},
   "outputs": [
    {
     "data": {
      "text/html": [
       "<div>\n",
       "<style scoped>\n",
       "    .dataframe tbody tr th:only-of-type {\n",
       "        vertical-align: middle;\n",
       "    }\n",
       "\n",
       "    .dataframe tbody tr th {\n",
       "        vertical-align: top;\n",
       "    }\n",
       "\n",
       "    .dataframe thead th {\n",
       "        text-align: right;\n",
       "    }\n",
       "</style>\n",
       "<table border=\"1\" class=\"dataframe\">\n",
       "  <thead>\n",
       "    <tr style=\"text-align: right;\">\n",
       "      <th></th>\n",
       "      <th>date</th>\n",
       "      <th>league_id</th>\n",
       "      <th>league</th>\n",
       "      <th>team1</th>\n",
       "      <th>team2</th>\n",
       "      <th>spi1</th>\n",
       "      <th>spi2</th>\n",
       "      <th>prob1</th>\n",
       "      <th>prob2</th>\n",
       "      <th>probtie</th>\n",
       "      <th>proj_score1</th>\n",
       "      <th>proj_score2</th>\n",
       "      <th>score1</th>\n",
       "      <th>score2</th>\n",
       "      <th>xg1</th>\n",
       "      <th>xg2</th>\n",
       "      <th>nsxg1</th>\n",
       "      <th>nsxg2</th>\n",
       "      <th>adj_score1</th>\n",
       "      <th>adj_score2</th>\n",
       "    </tr>\n",
       "  </thead>\n",
       "  <tbody>\n",
       "    <tr>\n",
       "      <th>0</th>\n",
       "      <td>2022-11-20</td>\n",
       "      <td>1908</td>\n",
       "      <td>FIFA World Cup</td>\n",
       "      <td>Qatar</td>\n",
       "      <td>Ecuador</td>\n",
       "      <td>51.00</td>\n",
       "      <td>72.74</td>\n",
       "      <td>0.2369</td>\n",
       "      <td>0.5045</td>\n",
       "      <td>0.2586</td>\n",
       "      <td>1.13</td>\n",
       "      <td>1.75</td>\n",
       "      <td>0</td>\n",
       "      <td>2</td>\n",
       "      <td>0.23</td>\n",
       "      <td>1.14</td>\n",
       "      <td>0.24</td>\n",
       "      <td>1.35</td>\n",
       "      <td>0.00</td>\n",
       "      <td>2.10</td>\n",
       "    </tr>\n",
       "    <tr>\n",
       "      <th>1</th>\n",
       "      <td>2022-11-21</td>\n",
       "      <td>1908</td>\n",
       "      <td>FIFA World Cup</td>\n",
       "      <td>England</td>\n",
       "      <td>Iran</td>\n",
       "      <td>85.96</td>\n",
       "      <td>62.17</td>\n",
       "      <td>0.6274</td>\n",
       "      <td>0.1187</td>\n",
       "      <td>0.2539</td>\n",
       "      <td>1.70</td>\n",
       "      <td>0.58</td>\n",
       "      <td>6</td>\n",
       "      <td>2</td>\n",
       "      <td>1.04</td>\n",
       "      <td>1.45</td>\n",
       "      <td>1.50</td>\n",
       "      <td>0.32</td>\n",
       "      <td>5.78</td>\n",
       "      <td>2.10</td>\n",
       "    </tr>\n",
       "    <tr>\n",
       "      <th>2</th>\n",
       "      <td>2022-11-21</td>\n",
       "      <td>1908</td>\n",
       "      <td>FIFA World Cup</td>\n",
       "      <td>Senegal</td>\n",
       "      <td>Netherlands</td>\n",
       "      <td>73.84</td>\n",
       "      <td>86.01</td>\n",
       "      <td>0.2235</td>\n",
       "      <td>0.5053</td>\n",
       "      <td>0.2712</td>\n",
       "      <td>0.99</td>\n",
       "      <td>1.63</td>\n",
       "      <td>0</td>\n",
       "      <td>2</td>\n",
       "      <td>0.70</td>\n",
       "      <td>0.68</td>\n",
       "      <td>1.22</td>\n",
       "      <td>1.83</td>\n",
       "      <td>0.00</td>\n",
       "      <td>1.58</td>\n",
       "    </tr>\n",
       "    <tr>\n",
       "      <th>3</th>\n",
       "      <td>2022-11-21</td>\n",
       "      <td>1908</td>\n",
       "      <td>FIFA World Cup</td>\n",
       "      <td>USA</td>\n",
       "      <td>Wales</td>\n",
       "      <td>74.83</td>\n",
       "      <td>65.58</td>\n",
       "      <td>0.4489</td>\n",
       "      <td>0.2591</td>\n",
       "      <td>0.2920</td>\n",
       "      <td>1.42</td>\n",
       "      <td>1.01</td>\n",
       "      <td>1</td>\n",
       "      <td>1</td>\n",
       "      <td>0.33</td>\n",
       "      <td>1.78</td>\n",
       "      <td>0.48</td>\n",
       "      <td>0.95</td>\n",
       "      <td>1.05</td>\n",
       "      <td>1.05</td>\n",
       "    </tr>\n",
       "    <tr>\n",
       "      <th>4</th>\n",
       "      <td>2022-11-22</td>\n",
       "      <td>1908</td>\n",
       "      <td>FIFA World Cup</td>\n",
       "      <td>Argentina</td>\n",
       "      <td>Saudi Arabia</td>\n",
       "      <td>87.21</td>\n",
       "      <td>56.87</td>\n",
       "      <td>0.7228</td>\n",
       "      <td>0.0807</td>\n",
       "      <td>0.1966</td>\n",
       "      <td>2.11</td>\n",
       "      <td>0.54</td>\n",
       "      <td>1</td>\n",
       "      <td>2</td>\n",
       "      <td>1.63</td>\n",
       "      <td>0.15</td>\n",
       "      <td>2.40</td>\n",
       "      <td>0.53</td>\n",
       "      <td>1.05</td>\n",
       "      <td>2.10</td>\n",
       "    </tr>\n",
       "  </tbody>\n",
       "</table>\n",
       "</div>"
      ],
      "text/plain": [
       "         date  league_id          league      team1         team2   spi1  \\\n",
       "0  2022-11-20       1908  FIFA World Cup      Qatar       Ecuador  51.00   \n",
       "1  2022-11-21       1908  FIFA World Cup    England          Iran  85.96   \n",
       "2  2022-11-21       1908  FIFA World Cup    Senegal   Netherlands  73.84   \n",
       "3  2022-11-21       1908  FIFA World Cup        USA         Wales  74.83   \n",
       "4  2022-11-22       1908  FIFA World Cup  Argentina  Saudi Arabia  87.21   \n",
       "\n",
       "    spi2   prob1   prob2  probtie  proj_score1  proj_score2  score1  score2  \\\n",
       "0  72.74  0.2369  0.5045   0.2586         1.13         1.75       0       2   \n",
       "1  62.17  0.6274  0.1187   0.2539         1.70         0.58       6       2   \n",
       "2  86.01  0.2235  0.5053   0.2712         0.99         1.63       0       2   \n",
       "3  65.58  0.4489  0.2591   0.2920         1.42         1.01       1       1   \n",
       "4  56.87  0.7228  0.0807   0.1966         2.11         0.54       1       2   \n",
       "\n",
       "    xg1   xg2  nsxg1  nsxg2  adj_score1  adj_score2  \n",
       "0  0.23  1.14   0.24   1.35        0.00        2.10  \n",
       "1  1.04  1.45   1.50   0.32        5.78        2.10  \n",
       "2  0.70  0.68   1.22   1.83        0.00        1.58  \n",
       "3  0.33  1.78   0.48   0.95        1.05        1.05  \n",
       "4  1.63  0.15   2.40   0.53        1.05        2.10  "
      ]
     },
     "execution_count": null,
     "metadata": {},
     "output_type": "execute_result"
    }
   ],
   "source": [
    "import pandas as pd\n",
    "df=pd.read_csv(\"https://projects.fivethirtyeight.com/soccer-api/international/2022/wc_matches.csv\")\n",
    "df.head()"
   ]
  },
  {
   "cell_type": "code",
   "execution_count": null,
   "metadata": {},
   "outputs": [],
   "source": [
    "df_use=df[['date','team1','team2','spi1','spi2','score1','score2']]"
   ]
  },
  {
   "cell_type": "code",
   "execution_count": null,
   "metadata": {},
   "outputs": [
    {
     "data": {
      "text/html": [
       "<div>\n",
       "<style scoped>\n",
       "    .dataframe tbody tr th:only-of-type {\n",
       "        vertical-align: middle;\n",
       "    }\n",
       "\n",
       "    .dataframe tbody tr th {\n",
       "        vertical-align: top;\n",
       "    }\n",
       "\n",
       "    .dataframe thead th {\n",
       "        text-align: right;\n",
       "    }\n",
       "</style>\n",
       "<table border=\"1\" class=\"dataframe\">\n",
       "  <thead>\n",
       "    <tr style=\"text-align: right;\">\n",
       "      <th></th>\n",
       "      <th>date</th>\n",
       "      <th>team1</th>\n",
       "      <th>team2</th>\n",
       "      <th>spi1</th>\n",
       "      <th>spi2</th>\n",
       "      <th>score1</th>\n",
       "      <th>score2</th>\n",
       "    </tr>\n",
       "  </thead>\n",
       "  <tbody>\n",
       "    <tr>\n",
       "      <th>0</th>\n",
       "      <td>2022-11-20</td>\n",
       "      <td>Qatar</td>\n",
       "      <td>Ecuador</td>\n",
       "      <td>51.00</td>\n",
       "      <td>72.74</td>\n",
       "      <td>0</td>\n",
       "      <td>2</td>\n",
       "    </tr>\n",
       "    <tr>\n",
       "      <th>1</th>\n",
       "      <td>2022-11-21</td>\n",
       "      <td>England</td>\n",
       "      <td>Iran</td>\n",
       "      <td>85.96</td>\n",
       "      <td>62.17</td>\n",
       "      <td>6</td>\n",
       "      <td>2</td>\n",
       "    </tr>\n",
       "    <tr>\n",
       "      <th>2</th>\n",
       "      <td>2022-11-21</td>\n",
       "      <td>Senegal</td>\n",
       "      <td>Netherlands</td>\n",
       "      <td>73.84</td>\n",
       "      <td>86.01</td>\n",
       "      <td>0</td>\n",
       "      <td>2</td>\n",
       "    </tr>\n",
       "    <tr>\n",
       "      <th>3</th>\n",
       "      <td>2022-11-21</td>\n",
       "      <td>USA</td>\n",
       "      <td>Wales</td>\n",
       "      <td>74.83</td>\n",
       "      <td>65.58</td>\n",
       "      <td>1</td>\n",
       "      <td>1</td>\n",
       "    </tr>\n",
       "    <tr>\n",
       "      <th>4</th>\n",
       "      <td>2022-11-22</td>\n",
       "      <td>Argentina</td>\n",
       "      <td>Saudi Arabia</td>\n",
       "      <td>87.21</td>\n",
       "      <td>56.87</td>\n",
       "      <td>1</td>\n",
       "      <td>2</td>\n",
       "    </tr>\n",
       "  </tbody>\n",
       "</table>\n",
       "</div>"
      ],
      "text/plain": [
       "         date      team1         team2   spi1   spi2  score1  score2\n",
       "0  2022-11-20      Qatar       Ecuador  51.00  72.74       0       2\n",
       "1  2022-11-21    England          Iran  85.96  62.17       6       2\n",
       "2  2022-11-21    Senegal   Netherlands  73.84  86.01       0       2\n",
       "3  2022-11-21        USA         Wales  74.83  65.58       1       1\n",
       "4  2022-11-22  Argentina  Saudi Arabia  87.21  56.87       1       2"
      ]
     },
     "execution_count": null,
     "metadata": {},
     "output_type": "execute_result"
    }
   ],
   "source": [
    "df_use.head()"
   ]
  },
  {
   "cell_type": "markdown",
   "metadata": {},
   "source": [
    "## Exploratory Data Analysis (EDA)"
   ]
  },
  {
   "cell_type": "code",
   "execution_count": null,
   "metadata": {},
   "outputs": [],
   "source": [
    "import numpy as np \n",
    "import pandas as pd \n",
    "import matplotlib.pylab as plt \n",
    "import seaborn as sns"
   ]
  },
  {
   "cell_type": "code",
   "execution_count": null,
   "metadata": {},
   "outputs": [
    {
     "data": {
      "text/plain": [
       "(64, 7)"
      ]
     },
     "execution_count": null,
     "metadata": {},
     "output_type": "execute_result"
    }
   ],
   "source": [
    "df_use.shape"
   ]
  },
  {
   "cell_type": "code",
   "execution_count": null,
   "metadata": {},
   "outputs": [
    {
     "data": {
      "text/html": [
       "<div>\n",
       "<style scoped>\n",
       "    .dataframe tbody tr th:only-of-type {\n",
       "        vertical-align: middle;\n",
       "    }\n",
       "\n",
       "    .dataframe tbody tr th {\n",
       "        vertical-align: top;\n",
       "    }\n",
       "\n",
       "    .dataframe thead th {\n",
       "        text-align: right;\n",
       "    }\n",
       "</style>\n",
       "<table border=\"1\" class=\"dataframe\">\n",
       "  <thead>\n",
       "    <tr style=\"text-align: right;\">\n",
       "      <th></th>\n",
       "      <th>spi1</th>\n",
       "      <th>spi2</th>\n",
       "      <th>score1</th>\n",
       "      <th>score2</th>\n",
       "    </tr>\n",
       "  </thead>\n",
       "  <tbody>\n",
       "    <tr>\n",
       "      <th>count</th>\n",
       "      <td>64.000000</td>\n",
       "      <td>64.000000</td>\n",
       "      <td>64.000000</td>\n",
       "      <td>64.000000</td>\n",
       "    </tr>\n",
       "    <tr>\n",
       "      <th>mean</th>\n",
       "      <td>77.321094</td>\n",
       "      <td>74.295781</td>\n",
       "      <td>1.578125</td>\n",
       "      <td>1.109375</td>\n",
       "    </tr>\n",
       "    <tr>\n",
       "      <th>std</th>\n",
       "      <td>11.158028</td>\n",
       "      <td>10.785255</td>\n",
       "      <td>1.551289</td>\n",
       "      <td>1.055856</td>\n",
       "    </tr>\n",
       "    <tr>\n",
       "      <th>min</th>\n",
       "      <td>48.160000</td>\n",
       "      <td>48.460000</td>\n",
       "      <td>0.000000</td>\n",
       "      <td>0.000000</td>\n",
       "    </tr>\n",
       "    <tr>\n",
       "      <th>25%</th>\n",
       "      <td>68.747500</td>\n",
       "      <td>66.052500</td>\n",
       "      <td>0.000000</td>\n",
       "      <td>0.000000</td>\n",
       "    </tr>\n",
       "    <tr>\n",
       "      <th>50%</th>\n",
       "      <td>78.725000</td>\n",
       "      <td>74.460000</td>\n",
       "      <td>1.000000</td>\n",
       "      <td>1.000000</td>\n",
       "    </tr>\n",
       "    <tr>\n",
       "      <th>75%</th>\n",
       "      <td>87.232500</td>\n",
       "      <td>79.505000</td>\n",
       "      <td>2.000000</td>\n",
       "      <td>2.000000</td>\n",
       "    </tr>\n",
       "    <tr>\n",
       "      <th>max</th>\n",
       "      <td>93.660000</td>\n",
       "      <td>93.480000</td>\n",
       "      <td>7.000000</td>\n",
       "      <td>4.000000</td>\n",
       "    </tr>\n",
       "  </tbody>\n",
       "</table>\n",
       "</div>"
      ],
      "text/plain": [
       "            spi1       spi2     score1     score2\n",
       "count  64.000000  64.000000  64.000000  64.000000\n",
       "mean   77.321094  74.295781   1.578125   1.109375\n",
       "std    11.158028  10.785255   1.551289   1.055856\n",
       "min    48.160000  48.460000   0.000000   0.000000\n",
       "25%    68.747500  66.052500   0.000000   0.000000\n",
       "50%    78.725000  74.460000   1.000000   1.000000\n",
       "75%    87.232500  79.505000   2.000000   2.000000\n",
       "max    93.660000  93.480000   7.000000   4.000000"
      ]
     },
     "execution_count": null,
     "metadata": {},
     "output_type": "execute_result"
    }
   ],
   "source": [
    "df_use.describe()"
   ]
  },
  {
   "cell_type": "code",
   "execution_count": null,
   "metadata": {},
   "outputs": [
    {
     "data": {
      "text/plain": [
       "date       object\n",
       "team1      object\n",
       "team2      object\n",
       "spi1      float64\n",
       "spi2      float64\n",
       "score1      int64\n",
       "score2      int64\n",
       "dtype: object"
      ]
     },
     "execution_count": null,
     "metadata": {},
     "output_type": "execute_result"
    }
   ],
   "source": [
    "df_use.dtypes"
   ]
  },
  {
   "cell_type": "code",
   "execution_count": null,
   "metadata": {},
   "outputs": [
    {
     "data": {
      "text/plain": [
       "23"
      ]
     },
     "execution_count": null,
     "metadata": {},
     "output_type": "execute_result"
    }
   ],
   "source": [
    "len(df_use['date'].unique())"
   ]
  },
  {
   "cell_type": "markdown",
   "metadata": {},
   "source": [
    "### Group Stage(2022-11-20~2022-12-02)"
   ]
  },
  {
   "cell_type": "code",
   "execution_count": null,
   "metadata": {},
   "outputs": [
    {
     "data": {
      "text/html": [
       "<div>\n",
       "<style scoped>\n",
       "    .dataframe tbody tr th:only-of-type {\n",
       "        vertical-align: middle;\n",
       "    }\n",
       "\n",
       "    .dataframe tbody tr th {\n",
       "        vertical-align: top;\n",
       "    }\n",
       "\n",
       "    .dataframe thead th {\n",
       "        text-align: right;\n",
       "    }\n",
       "</style>\n",
       "<table border=\"1\" class=\"dataframe\">\n",
       "  <thead>\n",
       "    <tr style=\"text-align: right;\">\n",
       "      <th></th>\n",
       "      <th>date</th>\n",
       "      <th>team1</th>\n",
       "      <th>team2</th>\n",
       "      <th>spi1</th>\n",
       "      <th>spi2</th>\n",
       "      <th>score1</th>\n",
       "      <th>score2</th>\n",
       "    </tr>\n",
       "  </thead>\n",
       "  <tbody>\n",
       "    <tr>\n",
       "      <th>0</th>\n",
       "      <td>2022-11-20</td>\n",
       "      <td>Qatar</td>\n",
       "      <td>Ecuador</td>\n",
       "      <td>51.00</td>\n",
       "      <td>72.74</td>\n",
       "      <td>0</td>\n",
       "      <td>2</td>\n",
       "    </tr>\n",
       "    <tr>\n",
       "      <th>1</th>\n",
       "      <td>2022-11-21</td>\n",
       "      <td>England</td>\n",
       "      <td>Iran</td>\n",
       "      <td>85.96</td>\n",
       "      <td>62.17</td>\n",
       "      <td>6</td>\n",
       "      <td>2</td>\n",
       "    </tr>\n",
       "    <tr>\n",
       "      <th>2</th>\n",
       "      <td>2022-11-21</td>\n",
       "      <td>Senegal</td>\n",
       "      <td>Netherlands</td>\n",
       "      <td>73.84</td>\n",
       "      <td>86.01</td>\n",
       "      <td>0</td>\n",
       "      <td>2</td>\n",
       "    </tr>\n",
       "    <tr>\n",
       "      <th>3</th>\n",
       "      <td>2022-11-21</td>\n",
       "      <td>USA</td>\n",
       "      <td>Wales</td>\n",
       "      <td>74.83</td>\n",
       "      <td>65.58</td>\n",
       "      <td>1</td>\n",
       "      <td>1</td>\n",
       "    </tr>\n",
       "    <tr>\n",
       "      <th>4</th>\n",
       "      <td>2022-11-22</td>\n",
       "      <td>Argentina</td>\n",
       "      <td>Saudi Arabia</td>\n",
       "      <td>87.21</td>\n",
       "      <td>56.87</td>\n",
       "      <td>1</td>\n",
       "      <td>2</td>\n",
       "    </tr>\n",
       "  </tbody>\n",
       "</table>\n",
       "</div>"
      ],
      "text/plain": [
       "         date      team1         team2   spi1   spi2  score1  score2\n",
       "0  2022-11-20      Qatar       Ecuador  51.00  72.74       0       2\n",
       "1  2022-11-21    England          Iran  85.96  62.17       6       2\n",
       "2  2022-11-21    Senegal   Netherlands  73.84  86.01       0       2\n",
       "3  2022-11-21        USA         Wales  74.83  65.58       1       1\n",
       "4  2022-11-22  Argentina  Saudi Arabia  87.21  56.87       1       2"
      ]
     },
     "execution_count": null,
     "metadata": {},
     "output_type": "execute_result"
    }
   ],
   "source": [
    "#In order to see the spi changes of different schedules of each team more clearly, \n",
    "#I will divide it into different dataframe for analysis respectively by the game schedule, and finally combine the analysis.\n",
    "df_groupStage=df_use[0:48]\n",
    "df_groupStage.head()\n",
    "# group stage"
   ]
  },
  {
   "cell_type": "markdown",
   "metadata": {},
   "source": [
    "### Round of Sixteen(2022-12-03~2022-12-06)"
   ]
  },
  {
   "cell_type": "code",
   "execution_count": null,
   "metadata": {},
   "outputs": [
    {
     "data": {
      "text/html": [
       "<div>\n",
       "<style scoped>\n",
       "    .dataframe tbody tr th:only-of-type {\n",
       "        vertical-align: middle;\n",
       "    }\n",
       "\n",
       "    .dataframe tbody tr th {\n",
       "        vertical-align: top;\n",
       "    }\n",
       "\n",
       "    .dataframe thead th {\n",
       "        text-align: right;\n",
       "    }\n",
       "</style>\n",
       "<table border=\"1\" class=\"dataframe\">\n",
       "  <thead>\n",
       "    <tr style=\"text-align: right;\">\n",
       "      <th></th>\n",
       "      <th>date</th>\n",
       "      <th>team1</th>\n",
       "      <th>team2</th>\n",
       "      <th>spi1</th>\n",
       "      <th>spi2</th>\n",
       "      <th>score1</th>\n",
       "      <th>score2</th>\n",
       "    </tr>\n",
       "  </thead>\n",
       "  <tbody>\n",
       "    <tr>\n",
       "      <th>48</th>\n",
       "      <td>2022-12-03</td>\n",
       "      <td>Netherlands</td>\n",
       "      <td>USA</td>\n",
       "      <td>83.97</td>\n",
       "      <td>73.07</td>\n",
       "      <td>3</td>\n",
       "      <td>1</td>\n",
       "    </tr>\n",
       "    <tr>\n",
       "      <th>49</th>\n",
       "      <td>2022-12-03</td>\n",
       "      <td>Argentina</td>\n",
       "      <td>Australia</td>\n",
       "      <td>87.98</td>\n",
       "      <td>59.35</td>\n",
       "      <td>2</td>\n",
       "      <td>1</td>\n",
       "    </tr>\n",
       "    <tr>\n",
       "      <th>50</th>\n",
       "      <td>2022-12-04</td>\n",
       "      <td>France</td>\n",
       "      <td>Poland</td>\n",
       "      <td>88.57</td>\n",
       "      <td>65.77</td>\n",
       "      <td>3</td>\n",
       "      <td>1</td>\n",
       "    </tr>\n",
       "    <tr>\n",
       "      <th>51</th>\n",
       "      <td>2022-12-04</td>\n",
       "      <td>England</td>\n",
       "      <td>Senegal</td>\n",
       "      <td>86.97</td>\n",
       "      <td>75.47</td>\n",
       "      <td>3</td>\n",
       "      <td>0</td>\n",
       "    </tr>\n",
       "    <tr>\n",
       "      <th>52</th>\n",
       "      <td>2022-12-05</td>\n",
       "      <td>Japan</td>\n",
       "      <td>Croatia</td>\n",
       "      <td>73.02</td>\n",
       "      <td>79.14</td>\n",
       "      <td>1</td>\n",
       "      <td>1</td>\n",
       "    </tr>\n",
       "    <tr>\n",
       "      <th>53</th>\n",
       "      <td>2022-12-05</td>\n",
       "      <td>Brazil</td>\n",
       "      <td>South Korea</td>\n",
       "      <td>92.90</td>\n",
       "      <td>69.40</td>\n",
       "      <td>4</td>\n",
       "      <td>1</td>\n",
       "    </tr>\n",
       "    <tr>\n",
       "      <th>54</th>\n",
       "      <td>2022-12-06</td>\n",
       "      <td>Morocco</td>\n",
       "      <td>Spain</td>\n",
       "      <td>74.42</td>\n",
       "      <td>89.20</td>\n",
       "      <td>0</td>\n",
       "      <td>0</td>\n",
       "    </tr>\n",
       "    <tr>\n",
       "      <th>55</th>\n",
       "      <td>2022-12-06</td>\n",
       "      <td>Portugal</td>\n",
       "      <td>Switzerland</td>\n",
       "      <td>85.80</td>\n",
       "      <td>78.51</td>\n",
       "      <td>6</td>\n",
       "      <td>1</td>\n",
       "    </tr>\n",
       "  </tbody>\n",
       "</table>\n",
       "</div>"
      ],
      "text/plain": [
       "          date        team1        team2   spi1   spi2  score1  score2\n",
       "48  2022-12-03  Netherlands          USA  83.97  73.07       3       1\n",
       "49  2022-12-03    Argentina    Australia  87.98  59.35       2       1\n",
       "50  2022-12-04       France       Poland  88.57  65.77       3       1\n",
       "51  2022-12-04      England      Senegal  86.97  75.47       3       0\n",
       "52  2022-12-05        Japan      Croatia  73.02  79.14       1       1\n",
       "53  2022-12-05       Brazil  South Korea  92.90  69.40       4       1\n",
       "54  2022-12-06      Morocco        Spain  74.42  89.20       0       0\n",
       "55  2022-12-06     Portugal  Switzerland  85.80  78.51       6       1"
      ]
     },
     "execution_count": null,
     "metadata": {},
     "output_type": "execute_result"
    }
   ],
   "source": [
    "df_roundOSixteen=df_use[48:56]\n",
    "df_roundOSixteen"
   ]
  },
  {
   "cell_type": "markdown",
   "metadata": {},
   "source": [
    "### QuarterFinals(2022-12-09~2022-12-10)"
   ]
  },
  {
   "cell_type": "code",
   "execution_count": null,
   "metadata": {},
   "outputs": [
    {
     "data": {
      "text/html": [
       "<div>\n",
       "<style scoped>\n",
       "    .dataframe tbody tr th:only-of-type {\n",
       "        vertical-align: middle;\n",
       "    }\n",
       "\n",
       "    .dataframe tbody tr th {\n",
       "        vertical-align: top;\n",
       "    }\n",
       "\n",
       "    .dataframe thead th {\n",
       "        text-align: right;\n",
       "    }\n",
       "</style>\n",
       "<table border=\"1\" class=\"dataframe\">\n",
       "  <thead>\n",
       "    <tr style=\"text-align: right;\">\n",
       "      <th></th>\n",
       "      <th>date</th>\n",
       "      <th>team1</th>\n",
       "      <th>team2</th>\n",
       "      <th>spi1</th>\n",
       "      <th>spi2</th>\n",
       "      <th>score1</th>\n",
       "      <th>score2</th>\n",
       "    </tr>\n",
       "  </thead>\n",
       "  <tbody>\n",
       "    <tr>\n",
       "      <th>56</th>\n",
       "      <td>2022-12-09</td>\n",
       "      <td>Croatia</td>\n",
       "      <td>Brazil</td>\n",
       "      <td>78.99</td>\n",
       "      <td>93.47</td>\n",
       "      <td>1</td>\n",
       "      <td>1</td>\n",
       "    </tr>\n",
       "    <tr>\n",
       "      <th>57</th>\n",
       "      <td>2022-12-09</td>\n",
       "      <td>Netherlands</td>\n",
       "      <td>Argentina</td>\n",
       "      <td>84.19</td>\n",
       "      <td>87.32</td>\n",
       "      <td>2</td>\n",
       "      <td>2</td>\n",
       "    </tr>\n",
       "    <tr>\n",
       "      <th>58</th>\n",
       "      <td>2022-12-10</td>\n",
       "      <td>Morocco</td>\n",
       "      <td>Portugal</td>\n",
       "      <td>74.45</td>\n",
       "      <td>87.92</td>\n",
       "      <td>1</td>\n",
       "      <td>0</td>\n",
       "    </tr>\n",
       "    <tr>\n",
       "      <th>59</th>\n",
       "      <td>2022-12-10</td>\n",
       "      <td>England</td>\n",
       "      <td>France</td>\n",
       "      <td>87.59</td>\n",
       "      <td>87.53</td>\n",
       "      <td>1</td>\n",
       "      <td>2</td>\n",
       "    </tr>\n",
       "  </tbody>\n",
       "</table>\n",
       "</div>"
      ],
      "text/plain": [
       "          date        team1      team2   spi1   spi2  score1  score2\n",
       "56  2022-12-09      Croatia     Brazil  78.99  93.47       1       1\n",
       "57  2022-12-09  Netherlands  Argentina  84.19  87.32       2       2\n",
       "58  2022-12-10      Morocco   Portugal  74.45  87.92       1       0\n",
       "59  2022-12-10      England     France  87.59  87.53       1       2"
      ]
     },
     "execution_count": null,
     "metadata": {},
     "output_type": "execute_result"
    }
   ],
   "source": [
    "df_quarterFinals=df_use[56:60]\n",
    "df_quarterFinals"
   ]
  },
  {
   "cell_type": "markdown",
   "metadata": {},
   "source": [
    "### Semi Final(2022-12-13~2022-12-14)"
   ]
  },
  {
   "cell_type": "code",
   "execution_count": null,
   "metadata": {},
   "outputs": [
    {
     "data": {
      "text/html": [
       "<div>\n",
       "<style scoped>\n",
       "    .dataframe tbody tr th:only-of-type {\n",
       "        vertical-align: middle;\n",
       "    }\n",
       "\n",
       "    .dataframe tbody tr th {\n",
       "        vertical-align: top;\n",
       "    }\n",
       "\n",
       "    .dataframe thead th {\n",
       "        text-align: right;\n",
       "    }\n",
       "</style>\n",
       "<table border=\"1\" class=\"dataframe\">\n",
       "  <thead>\n",
       "    <tr style=\"text-align: right;\">\n",
       "      <th></th>\n",
       "      <th>date</th>\n",
       "      <th>team1</th>\n",
       "      <th>team2</th>\n",
       "      <th>spi1</th>\n",
       "      <th>spi2</th>\n",
       "      <th>score1</th>\n",
       "      <th>score2</th>\n",
       "    </tr>\n",
       "  </thead>\n",
       "  <tbody>\n",
       "    <tr>\n",
       "      <th>60</th>\n",
       "      <td>2022-12-13</td>\n",
       "      <td>Argentina</td>\n",
       "      <td>Croatia</td>\n",
       "      <td>87.46</td>\n",
       "      <td>79.37</td>\n",
       "      <td>3</td>\n",
       "      <td>0</td>\n",
       "    </tr>\n",
       "    <tr>\n",
       "      <th>61</th>\n",
       "      <td>2022-12-14</td>\n",
       "      <td>France</td>\n",
       "      <td>Morocco</td>\n",
       "      <td>87.72</td>\n",
       "      <td>75.13</td>\n",
       "      <td>2</td>\n",
       "      <td>0</td>\n",
       "    </tr>\n",
       "  </tbody>\n",
       "</table>\n",
       "</div>"
      ],
      "text/plain": [
       "          date      team1    team2   spi1   spi2  score1  score2\n",
       "60  2022-12-13  Argentina  Croatia  87.46  79.37       3       0\n",
       "61  2022-12-14     France  Morocco  87.72  75.13       2       0"
      ]
     },
     "execution_count": null,
     "metadata": {},
     "output_type": "execute_result"
    }
   ],
   "source": [
    "df_semifinal=df_use[60:62]\n",
    "df_semifinal"
   ]
  },
  {
   "cell_type": "markdown",
   "metadata": {},
   "source": [
    "### Third Place Match(2022-12-17)"
   ]
  },
  {
   "cell_type": "code",
   "execution_count": null,
   "metadata": {},
   "outputs": [
    {
     "data": {
      "text/html": [
       "<div>\n",
       "<style scoped>\n",
       "    .dataframe tbody tr th:only-of-type {\n",
       "        vertical-align: middle;\n",
       "    }\n",
       "\n",
       "    .dataframe tbody tr th {\n",
       "        vertical-align: top;\n",
       "    }\n",
       "\n",
       "    .dataframe thead th {\n",
       "        text-align: right;\n",
       "    }\n",
       "</style>\n",
       "<table border=\"1\" class=\"dataframe\">\n",
       "  <thead>\n",
       "    <tr style=\"text-align: right;\">\n",
       "      <th></th>\n",
       "      <th>date</th>\n",
       "      <th>team1</th>\n",
       "      <th>team2</th>\n",
       "      <th>spi1</th>\n",
       "      <th>spi2</th>\n",
       "      <th>score1</th>\n",
       "      <th>score2</th>\n",
       "    </tr>\n",
       "  </thead>\n",
       "  <tbody>\n",
       "    <tr>\n",
       "      <th>62</th>\n",
       "      <td>2022-12-17</td>\n",
       "      <td>Croatia</td>\n",
       "      <td>Morocco</td>\n",
       "      <td>77.65</td>\n",
       "      <td>73.92</td>\n",
       "      <td>2</td>\n",
       "      <td>1</td>\n",
       "    </tr>\n",
       "  </tbody>\n",
       "</table>\n",
       "</div>"
      ],
      "text/plain": [
       "          date    team1    team2   spi1   spi2  score1  score2\n",
       "62  2022-12-17  Croatia  Morocco  77.65  73.92       2       1"
      ]
     },
     "execution_count": null,
     "metadata": {},
     "output_type": "execute_result"
    }
   ],
   "source": [
    "df_ThirdPlaceMatch=df_use[62:63]\n",
    "df_ThirdPlaceMatch"
   ]
  },
  {
   "cell_type": "markdown",
   "metadata": {},
   "source": [
    "### Final(2022-12-18)"
   ]
  },
  {
   "cell_type": "code",
   "execution_count": null,
   "metadata": {},
   "outputs": [
    {
     "data": {
      "text/html": [
       "<div>\n",
       "<style scoped>\n",
       "    .dataframe tbody tr th:only-of-type {\n",
       "        vertical-align: middle;\n",
       "    }\n",
       "\n",
       "    .dataframe tbody tr th {\n",
       "        vertical-align: top;\n",
       "    }\n",
       "\n",
       "    .dataframe thead th {\n",
       "        text-align: right;\n",
       "    }\n",
       "</style>\n",
       "<table border=\"1\" class=\"dataframe\">\n",
       "  <thead>\n",
       "    <tr style=\"text-align: right;\">\n",
       "      <th></th>\n",
       "      <th>date</th>\n",
       "      <th>team1</th>\n",
       "      <th>team2</th>\n",
       "      <th>spi1</th>\n",
       "      <th>spi2</th>\n",
       "      <th>score1</th>\n",
       "      <th>score2</th>\n",
       "    </tr>\n",
       "  </thead>\n",
       "  <tbody>\n",
       "    <tr>\n",
       "      <th>63</th>\n",
       "      <td>2022-12-18</td>\n",
       "      <td>Argentina</td>\n",
       "      <td>France</td>\n",
       "      <td>88.86</td>\n",
       "      <td>88.41</td>\n",
       "      <td>3</td>\n",
       "      <td>3</td>\n",
       "    </tr>\n",
       "  </tbody>\n",
       "</table>\n",
       "</div>"
      ],
      "text/plain": [
       "          date      team1   team2   spi1   spi2  score1  score2\n",
       "63  2022-12-18  Argentina  France  88.86  88.41       3       3"
      ]
     },
     "execution_count": null,
     "metadata": {},
     "output_type": "execute_result"
    }
   ],
   "source": [
    "df_final=df_use[63:64]\n",
    "df_final"
   ]
  },
  {
   "cell_type": "code",
   "execution_count": null,
   "metadata": {},
   "outputs": [
    {
     "data": {
      "text/plain": [
       "Text(0.5, 0.98, 'Correlation between spi1 and score1')"
      ]
     },
     "execution_count": null,
     "metadata": {},
     "output_type": "execute_result"
    },
    {
     "data": {
      "image/png": "[encoded data removed]",
      "text/plain": [
       "<Figure size 600x600 with 3 Axes>"
      ]
     },
     "metadata": {},
     "output_type": "display_data"
    }
   ],
   "source": [
    "p=sns.jointplot(x='spi1', y='score1', data=df_groupStage, kind='reg')\n",
    "p.fig.suptitle(\"Correlation between spi1 and score1\")\n"
   ]
  },
  {
   "cell_type": "code",
   "execution_count": null,
   "metadata": {},
   "outputs": [
    {
     "data": {
      "text/plain": [
       "Text(0.5, 0.98, 'Correlation between spi2 and score2')"
      ]
     },
     "execution_count": null,
     "metadata": {},
     "output_type": "execute_result"
    },
    {
     "data": {
      "image/png": "[encoded data removed]",
      "text/plain": [
       "<Figure size 600x600 with 3 Axes>"
      ]
     },
     "metadata": {},
     "output_type": "display_data"
    }
   ],
   "source": [
    "q=sns.jointplot(x='spi2', y='score2', data=df_groupStage, kind='reg')\n",
    "q.fig.suptitle(\"Correlation between spi2 and score2\")\n"
   ]
  },
  {
   "cell_type": "markdown",
   "metadata": {},
   "source": [
    "#### The two graphs above show that spi is proportional to score."
   ]
  },
  {
   "cell_type": "code",
   "execution_count": null,
   "metadata": {},
   "outputs": [
    {
     "name": "stdout",
     "output_type": "stream",
     "text": [
      "73.95791666666668\n"
     ]
    }
   ],
   "source": [
    "groupstageSpi=df_groupStage[\"spi1\"]+df_groupStage[\"spi2\"]\n",
    "groupstageSpi=sum(groupstageSpi)/(len(df_groupStage)*2)\n",
    "print(groupstageSpi)"
   ]
  },
  {
   "cell_type": "code",
   "execution_count": null,
   "metadata": {},
   "outputs": [
    {
     "name": "stdout",
     "output_type": "stream",
     "text": [
      "78.97125\n"
     ]
    }
   ],
   "source": [
    "roundOSixteenSpi=df_roundOSixteen[\"spi1\"]+df_roundOSixteen[\"spi2\"]\n",
    "roundOSixteenSpi=sum(roundOSixteenSpi)/(len(roundOSixteenSpi)*2)\n",
    "print(roundOSixteenSpi)"
   ]
  },
  {
   "cell_type": "code",
   "execution_count": null,
   "metadata": {},
   "outputs": [
    {
     "data": {
      "text/plain": [
       "85.1825"
      ]
     },
     "execution_count": null,
     "metadata": {},
     "output_type": "execute_result"
    }
   ],
   "source": [
    "quarterFinalspi=df_quarterFinals[\"spi1\"]+df_quarterFinals[\"spi2\"]\n",
    "quarterFinalspi=sum(quarterFinalspi)/(len(quarterFinalspi)*2)\n",
    "quarterFinalspi"
   ]
  },
  {
   "cell_type": "code",
   "execution_count": null,
   "metadata": {},
   "outputs": [
    {
     "name": "stdout",
     "output_type": "stream",
     "text": [
      "82.41999999999999\n"
     ]
    }
   ],
   "source": [
    "semifinalspi=df_semifinal[\"spi1\"]+df_semifinal[\"spi2\"]\n",
    "semifinalspi=sum(semifinalspi)/(len(semifinalspi)*2)\n",
    "print(semifinalspi)"
   ]
  },
  {
   "cell_type": "code",
   "execution_count": null,
   "metadata": {},
   "outputs": [
    {
     "name": "stdout",
     "output_type": "stream",
     "text": [
      "75.785\n"
     ]
    }
   ],
   "source": [
    "ThirdPlaceMatchspi=df_ThirdPlaceMatch[\"spi1\"]+df_ThirdPlaceMatch[\"spi2\"]\n",
    "ThirdPlaceMatchspi=sum(ThirdPlaceMatchspi)/(len(ThirdPlaceMatchspi)*2)\n",
    "print(ThirdPlaceMatchspi)"
   ]
  },
  {
   "cell_type": "code",
   "execution_count": null,
   "metadata": {},
   "outputs": [
    {
     "name": "stdout",
     "output_type": "stream",
     "text": [
      "88.63499999999999\n"
     ]
    }
   ],
   "source": [
    "finalspi=df_final[\"spi1\"]+df_final[\"spi2\"]\n",
    "finalspi=sum(finalspi)/(len(finalspi)*2)\n",
    "print(finalspi)"
   ]
  },
  {
   "cell_type": "code",
   "execution_count": null,
   "metadata": {},
   "outputs": [],
   "source": [
    "import pandas as pd"
   ]
  },
  {
   "cell_type": "code",
   "execution_count": null,
   "metadata": {},
   "outputs": [
    {
     "data": {
      "text/html": [
       "<div>\n",
       "<style scoped>\n",
       "    .dataframe tbody tr th:only-of-type {\n",
       "        vertical-align: middle;\n",
       "    }\n",
       "\n",
       "    .dataframe tbody tr th {\n",
       "        vertical-align: top;\n",
       "    }\n",
       "\n",
       "    .dataframe thead th {\n",
       "        text-align: right;\n",
       "    }\n",
       "</style>\n",
       "<table border=\"1\" class=\"dataframe\">\n",
       "  <thead>\n",
       "    <tr style=\"text-align: right;\">\n",
       "      <th></th>\n",
       "      <th>Game Process</th>\n",
       "      <th>average spi</th>\n",
       "    </tr>\n",
       "  </thead>\n",
       "  <tbody>\n",
       "    <tr>\n",
       "      <th>0</th>\n",
       "      <td>groupstage</td>\n",
       "      <td>73.957917</td>\n",
       "    </tr>\n",
       "    <tr>\n",
       "      <th>1</th>\n",
       "      <td>round of 16</td>\n",
       "      <td>78.971250</td>\n",
       "    </tr>\n",
       "    <tr>\n",
       "      <th>2</th>\n",
       "      <td>quarter final</td>\n",
       "      <td>85.182500</td>\n",
       "    </tr>\n",
       "    <tr>\n",
       "      <th>3</th>\n",
       "      <td>semi final</td>\n",
       "      <td>82.420000</td>\n",
       "    </tr>\n",
       "    <tr>\n",
       "      <th>4</th>\n",
       "      <td>thitd place match</td>\n",
       "      <td>75.785000</td>\n",
       "    </tr>\n",
       "    <tr>\n",
       "      <th>5</th>\n",
       "      <td>final</td>\n",
       "      <td>88.635000</td>\n",
       "    </tr>\n",
       "  </tbody>\n",
       "</table>\n",
       "</div>"
      ],
      "text/plain": [
       "        Game Process  average spi\n",
       "0         groupstage    73.957917\n",
       "1        round of 16    78.971250\n",
       "2      quarter final    85.182500\n",
       "3         semi final    82.420000\n",
       "4  thitd place match    75.785000\n",
       "5              final    88.635000"
      ]
     },
     "execution_count": null,
     "metadata": {},
     "output_type": "execute_result"
    }
   ],
   "source": [
    "avg_data={'Game Process':['groupstage','round of 16','quarter final','semi final','thitd place match','final'],'average spi':[73.95791666666668\n",
    ",78.97125,85.1825,82.41999999999999,75.785,88.63499999999999]}\n",
    "averagespi=pd.DataFrame(avg_data, columns=['Game Process','average spi'])\n",
    "averagespi"
   ]
  },
  {
   "cell_type": "code",
   "execution_count": null,
   "metadata": {},
   "outputs": [
    {
     "data": {
      "text/plain": [
       "[Text(0.5, 1.0, 'SPI changes as the game goes on')]"
      ]
     },
     "execution_count": null,
     "metadata": {},
     "output_type": "execute_result"
    },
    {
     "data": {
      "image/png": "[encoded data removed]",
      "text/plain": [
       "<Figure size 640x480 with 1 Axes>"
      ]
     },
     "metadata": {},
     "output_type": "display_data"
    }
   ],
   "source": [
    "import seaborn as sns\n",
    "k=sns.lineplot(data=averagespi, x=\"Game Process\", y=\"average spi\")\n",
    "k.set(title='SPI changes as the game goes on')"
   ]
  },
  {
   "cell_type": "markdown",
   "metadata": {},
   "source": [
    "#### The mean value of spi increased with the change of the schedule, but gradually decreased in the semi final and third place march, which may be related to the decrease of spi with the score of the team.\n",
    "#### Through EDA,  I have a general arrangement of my data and a general understanding of the relationship between columns. I will continue  to further study my research qestion.  It focuses on the relationship between spi and score ratio, and how spi fluctuates with scores."
   ]
  },
  {
   "cell_type": "markdown",
   "metadata": {},
   "source": [
    "## Refine your research questions"
   ]
  },
  {
   "cell_type": "markdown",
   "metadata": {},
   "source": [
    "#### 1. What is the relationship between SPI and Score? How effective are SPI ratings as the only predictor of match outcomes in the 2022 World Cup? \n",
    "#### 2. How will SPI change as teams advance or play subsequent tournaments? How does this change relate to scoring?\n",
    "#### 3. How does their accuracy change over the course of the tournament as more teams advance? "
   ]
  },
  {
   "cell_type": "markdown",
   "metadata": {},
   "source": [
    "## Data Pipeline"
   ]
  },
  {
   "cell_type": "code",
   "execution_count": null,
   "metadata": {},
   "outputs": [
    {
     "data": {
      "text/html": [
       "<div>\n",
       "<style scoped>\n",
       "    .dataframe tbody tr th:only-of-type {\n",
       "        vertical-align: middle;\n",
       "    }\n",
       "\n",
       "    .dataframe tbody tr th {\n",
       "        vertical-align: top;\n",
       "    }\n",
       "\n",
       "    .dataframe thead th {\n",
       "        text-align: right;\n",
       "    }\n",
       "</style>\n",
       "<table border=\"1\" class=\"dataframe\">\n",
       "  <thead>\n",
       "    <tr style=\"text-align: right;\">\n",
       "      <th></th>\n",
       "      <th>date</th>\n",
       "      <th>team1</th>\n",
       "      <th>team2</th>\n",
       "      <th>spi1</th>\n",
       "      <th>spi2</th>\n",
       "      <th>score1</th>\n",
       "      <th>score2</th>\n",
       "      <th>spi1-spi2</th>\n",
       "      <th>score1-score2</th>\n",
       "    </tr>\n",
       "  </thead>\n",
       "  <tbody>\n",
       "    <tr>\n",
       "      <th>0</th>\n",
       "      <td>2022-11-20</td>\n",
       "      <td>Qatar</td>\n",
       "      <td>Ecuador</td>\n",
       "      <td>51.00</td>\n",
       "      <td>72.74</td>\n",
       "      <td>0</td>\n",
       "      <td>2</td>\n",
       "      <td>-21.74</td>\n",
       "      <td>-2</td>\n",
       "    </tr>\n",
       "    <tr>\n",
       "      <th>1</th>\n",
       "      <td>2022-11-21</td>\n",
       "      <td>England</td>\n",
       "      <td>Iran</td>\n",
       "      <td>85.96</td>\n",
       "      <td>62.17</td>\n",
       "      <td>6</td>\n",
       "      <td>2</td>\n",
       "      <td>23.79</td>\n",
       "      <td>4</td>\n",
       "    </tr>\n",
       "    <tr>\n",
       "      <th>2</th>\n",
       "      <td>2022-11-21</td>\n",
       "      <td>Senegal</td>\n",
       "      <td>Netherlands</td>\n",
       "      <td>73.84</td>\n",
       "      <td>86.01</td>\n",
       "      <td>0</td>\n",
       "      <td>2</td>\n",
       "      <td>-12.17</td>\n",
       "      <td>-2</td>\n",
       "    </tr>\n",
       "    <tr>\n",
       "      <th>3</th>\n",
       "      <td>2022-11-21</td>\n",
       "      <td>USA</td>\n",
       "      <td>Wales</td>\n",
       "      <td>74.83</td>\n",
       "      <td>65.58</td>\n",
       "      <td>1</td>\n",
       "      <td>1</td>\n",
       "      <td>9.25</td>\n",
       "      <td>0</td>\n",
       "    </tr>\n",
       "    <tr>\n",
       "      <th>4</th>\n",
       "      <td>2022-11-22</td>\n",
       "      <td>Argentina</td>\n",
       "      <td>Saudi Arabia</td>\n",
       "      <td>87.21</td>\n",
       "      <td>56.87</td>\n",
       "      <td>1</td>\n",
       "      <td>2</td>\n",
       "      <td>30.34</td>\n",
       "      <td>-1</td>\n",
       "    </tr>\n",
       "  </tbody>\n",
       "</table>\n",
       "</div>"
      ],
      "text/plain": [
       "         date      team1         team2   spi1   spi2  score1  score2  \\\n",
       "0  2022-11-20      Qatar       Ecuador  51.00  72.74       0       2   \n",
       "1  2022-11-21    England          Iran  85.96  62.17       6       2   \n",
       "2  2022-11-21    Senegal   Netherlands  73.84  86.01       0       2   \n",
       "3  2022-11-21        USA         Wales  74.83  65.58       1       1   \n",
       "4  2022-11-22  Argentina  Saudi Arabia  87.21  56.87       1       2   \n",
       "\n",
       "   spi1-spi2  score1-score2  \n",
       "0     -21.74             -2  \n",
       "1      23.79              4  \n",
       "2     -12.17             -2  \n",
       "3       9.25              0  \n",
       "4      30.34             -1  "
      ]
     },
     "execution_count": null,
     "metadata": {},
     "output_type": "execute_result"
    }
   ],
   "source": [
    "import pandas as pd\n",
    "\n",
    "df=pd.read_csv(\"https://projects.fivethirtyeight.com/soccer-api/international/2022/wc_matches.csv\")\n",
    "\n",
    "avg_data={'Game Process':['groupstage','round of 16','quarter final','semi final','thitd place match','final'],'average spi':[73.95791666666668\n",
    ",78.97125,85.1825,82.41999999999999,75.785,88.63499999999999]}\n",
    "averagespi=pd.DataFrame(avg_data, columns=['Game Process','average spi'])\n",
    "\n",
    "df['spi1-spi2']=df['spi1'] - df['spi2']\n",
    "df['score1-score2']=df['score1']-df['score2']\n",
    "df_use=df[['date','team1','team2','spi1','spi2','score1','score2','spi1-spi2','score1-score2']]\n",
    "df_use.head()\n"
   ]
  },
  {
   "cell_type": "markdown",
   "metadata": {},
   "source": [
    "## Method Chaining and writing Python programs"
   ]
  },
  {
   "cell_type": "code",
   "execution_count": null,
   "metadata": {},
   "outputs": [],
   "source": [
    "import pandas as pd\n",
    "import numpy as np"
   ]
  },
  {
   "cell_type": "code",
   "execution_count": null,
   "metadata": {},
   "outputs": [
    {
     "data": {
      "text/html": [
       "<div>\n",
       "<style scoped>\n",
       "    .dataframe tbody tr th:only-of-type {\n",
       "        vertical-align: middle;\n",
       "    }\n",
       "\n",
       "    .dataframe tbody tr th {\n",
       "        vertical-align: top;\n",
       "    }\n",
       "\n",
       "    .dataframe thead th {\n",
       "        text-align: right;\n",
       "    }\n",
       "</style>\n",
       "<table border=\"1\" class=\"dataframe\">\n",
       "  <thead>\n",
       "    <tr style=\"text-align: right;\">\n",
       "      <th></th>\n",
       "      <th>date</th>\n",
       "      <th>team1</th>\n",
       "      <th>team2</th>\n",
       "      <th>spi1</th>\n",
       "      <th>spi2</th>\n",
       "      <th>score1</th>\n",
       "      <th>score2</th>\n",
       "      <th>spi1_spi2</th>\n",
       "      <th>score1_score2</th>\n",
       "      <th>ratio</th>\n",
       "    </tr>\n",
       "  </thead>\n",
       "  <tbody>\n",
       "    <tr>\n",
       "      <th>0</th>\n",
       "      <td>2022-11-20</td>\n",
       "      <td>Qatar</td>\n",
       "      <td>Ecuador</td>\n",
       "      <td>51.00</td>\n",
       "      <td>72.74</td>\n",
       "      <td>0</td>\n",
       "      <td>2</td>\n",
       "      <td>-21.74</td>\n",
       "      <td>-2</td>\n",
       "      <td>10.870000</td>\n",
       "    </tr>\n",
       "    <tr>\n",
       "      <th>1</th>\n",
       "      <td>2022-11-21</td>\n",
       "      <td>England</td>\n",
       "      <td>Iran</td>\n",
       "      <td>85.96</td>\n",
       "      <td>62.17</td>\n",
       "      <td>6</td>\n",
       "      <td>2</td>\n",
       "      <td>23.79</td>\n",
       "      <td>4</td>\n",
       "      <td>5.947500</td>\n",
       "    </tr>\n",
       "    <tr>\n",
       "      <th>2</th>\n",
       "      <td>2022-11-21</td>\n",
       "      <td>Senegal</td>\n",
       "      <td>Netherlands</td>\n",
       "      <td>73.84</td>\n",
       "      <td>86.01</td>\n",
       "      <td>0</td>\n",
       "      <td>2</td>\n",
       "      <td>-12.17</td>\n",
       "      <td>-2</td>\n",
       "      <td>6.085000</td>\n",
       "    </tr>\n",
       "    <tr>\n",
       "      <th>3</th>\n",
       "      <td>2022-11-21</td>\n",
       "      <td>USA</td>\n",
       "      <td>Wales</td>\n",
       "      <td>74.83</td>\n",
       "      <td>65.58</td>\n",
       "      <td>1</td>\n",
       "      <td>1</td>\n",
       "      <td>9.25</td>\n",
       "      <td>0</td>\n",
       "      <td>inf</td>\n",
       "    </tr>\n",
       "    <tr>\n",
       "      <th>4</th>\n",
       "      <td>2022-11-22</td>\n",
       "      <td>Argentina</td>\n",
       "      <td>Saudi Arabia</td>\n",
       "      <td>87.21</td>\n",
       "      <td>56.87</td>\n",
       "      <td>1</td>\n",
       "      <td>2</td>\n",
       "      <td>30.34</td>\n",
       "      <td>-1</td>\n",
       "      <td>-30.340000</td>\n",
       "    </tr>\n",
       "    <tr>\n",
       "      <th>...</th>\n",
       "      <td>...</td>\n",
       "      <td>...</td>\n",
       "      <td>...</td>\n",
       "      <td>...</td>\n",
       "      <td>...</td>\n",
       "      <td>...</td>\n",
       "      <td>...</td>\n",
       "      <td>...</td>\n",
       "      <td>...</td>\n",
       "      <td>...</td>\n",
       "    </tr>\n",
       "    <tr>\n",
       "      <th>59</th>\n",
       "      <td>2022-12-10</td>\n",
       "      <td>England</td>\n",
       "      <td>France</td>\n",
       "      <td>87.59</td>\n",
       "      <td>87.53</td>\n",
       "      <td>1</td>\n",
       "      <td>2</td>\n",
       "      <td>0.06</td>\n",
       "      <td>-1</td>\n",
       "      <td>-0.060000</td>\n",
       "    </tr>\n",
       "    <tr>\n",
       "      <th>60</th>\n",
       "      <td>2022-12-13</td>\n",
       "      <td>Argentina</td>\n",
       "      <td>Croatia</td>\n",
       "      <td>87.46</td>\n",
       "      <td>79.37</td>\n",
       "      <td>3</td>\n",
       "      <td>0</td>\n",
       "      <td>8.09</td>\n",
       "      <td>3</td>\n",
       "      <td>2.696667</td>\n",
       "    </tr>\n",
       "    <tr>\n",
       "      <th>61</th>\n",
       "      <td>2022-12-14</td>\n",
       "      <td>France</td>\n",
       "      <td>Morocco</td>\n",
       "      <td>87.72</td>\n",
       "      <td>75.13</td>\n",
       "      <td>2</td>\n",
       "      <td>0</td>\n",
       "      <td>12.59</td>\n",
       "      <td>2</td>\n",
       "      <td>6.295000</td>\n",
       "    </tr>\n",
       "    <tr>\n",
       "      <th>62</th>\n",
       "      <td>2022-12-17</td>\n",
       "      <td>Croatia</td>\n",
       "      <td>Morocco</td>\n",
       "      <td>77.65</td>\n",
       "      <td>73.92</td>\n",
       "      <td>2</td>\n",
       "      <td>1</td>\n",
       "      <td>3.73</td>\n",
       "      <td>1</td>\n",
       "      <td>3.730000</td>\n",
       "    </tr>\n",
       "    <tr>\n",
       "      <th>63</th>\n",
       "      <td>2022-12-18</td>\n",
       "      <td>Argentina</td>\n",
       "      <td>France</td>\n",
       "      <td>88.86</td>\n",
       "      <td>88.41</td>\n",
       "      <td>3</td>\n",
       "      <td>3</td>\n",
       "      <td>0.45</td>\n",
       "      <td>0</td>\n",
       "      <td>inf</td>\n",
       "    </tr>\n",
       "  </tbody>\n",
       "</table>\n",
       "<p>64 rows × 10 columns</p>\n",
       "</div>"
      ],
      "text/plain": [
       "          date      team1         team2   spi1   spi2  score1  score2  \\\n",
       "0   2022-11-20      Qatar       Ecuador  51.00  72.74       0       2   \n",
       "1   2022-11-21    England          Iran  85.96  62.17       6       2   \n",
       "2   2022-11-21    Senegal   Netherlands  73.84  86.01       0       2   \n",
       "3   2022-11-21        USA         Wales  74.83  65.58       1       1   \n",
       "4   2022-11-22  Argentina  Saudi Arabia  87.21  56.87       1       2   \n",
       "..         ...        ...           ...    ...    ...     ...     ...   \n",
       "59  2022-12-10    England        France  87.59  87.53       1       2   \n",
       "60  2022-12-13  Argentina       Croatia  87.46  79.37       3       0   \n",
       "61  2022-12-14     France       Morocco  87.72  75.13       2       0   \n",
       "62  2022-12-17    Croatia       Morocco  77.65  73.92       2       1   \n",
       "63  2022-12-18  Argentina        France  88.86  88.41       3       3   \n",
       "\n",
       "    spi1_spi2  score1_score2      ratio  \n",
       "0      -21.74             -2  10.870000  \n",
       "1       23.79              4   5.947500  \n",
       "2      -12.17             -2   6.085000  \n",
       "3        9.25              0        inf  \n",
       "4       30.34             -1 -30.340000  \n",
       "..        ...            ...        ...  \n",
       "59       0.06             -1  -0.060000  \n",
       "60       8.09              3   2.696667  \n",
       "61      12.59              2   6.295000  \n",
       "62       3.73              1   3.730000  \n",
       "63       0.45              0        inf  \n",
       "\n",
       "[64 rows x 10 columns]"
      ]
     },
     "execution_count": null,
     "metadata": {},
     "output_type": "execute_result"
    }
   ],
   "source": [
    "data = pd.read_csv(\"https://projects.fivethirtyeight.com/soccer-api/international/2022/wc_matches.csv\")\n",
    "\n",
    "df = (   \n",
    "    pd.DataFrame(data=data)\n",
    "    .assign(spi1_spi2=lambda x: x['spi1'] - x['spi2'])\n",
    "    .assign(score1_score2=lambda x: x['score1'] - x['score2'])\n",
    "    .assign(ratio=lambda x: x['spi1_spi2'] / x['score1_score2'])\n",
    "    .loc[:, ['date','team1','team2','spi1','spi2','score1','score2','spi1_spi2','score1_score2','ratio']]\n",
    "    .reset_index(drop=True)\n",
    "\n",
    ")\n",
    "\n",
    "\n",
    "df"
   ]
  },
  {
   "cell_type": "code",
   "execution_count": null,
   "metadata": {},
   "outputs": [],
   "source": [
    "import pandas as pd\n",
    "\n",
    "def load_and_process(url):\n",
    "    data = pd.read_csv(url)\n",
    "    df = (\n",
    "        pd.DataFrame(data=data)\n",
    "        .assign(spi1_spi2=lambda x: x['spi1'] - x['spi2'])\n",
    "        .assign(score1_score2=lambda x: x['score1'] - x['score2'])\n",
    "        .assign(ratio=lambda x: x['spi1_spi2'] / x['score1_score2'])\n",
    "        .loc[:, ['date','team1','team2','spi1','spi2','score1','score2','spi1_spi2','score1_score2','ratio']]\n",
    "        .reset_index(drop=True)\n",
    "    )\n",
    "    return df\n"
   ]
  },
  {
   "cell_type": "code",
   "execution_count": null,
   "metadata": {},
   "outputs": [
    {
     "data": {
      "text/html": [
       "<div>\n",
       "<style scoped>\n",
       "    .dataframe tbody tr th:only-of-type {\n",
       "        vertical-align: middle;\n",
       "    }\n",
       "\n",
       "    .dataframe tbody tr th {\n",
       "        vertical-align: top;\n",
       "    }\n",
       "\n",
       "    .dataframe thead th {\n",
       "        text-align: right;\n",
       "    }\n",
       "</style>\n",
       "<table border=\"1\" class=\"dataframe\">\n",
       "  <thead>\n",
       "    <tr style=\"text-align: right;\">\n",
       "      <th></th>\n",
       "      <th>date</th>\n",
       "      <th>team1</th>\n",
       "      <th>team2</th>\n",
       "      <th>spi1</th>\n",
       "      <th>spi2</th>\n",
       "      <th>score1</th>\n",
       "      <th>score2</th>\n",
       "      <th>spi1_spi2</th>\n",
       "      <th>score1_score2</th>\n",
       "      <th>ratio</th>\n",
       "    </tr>\n",
       "  </thead>\n",
       "  <tbody>\n",
       "    <tr>\n",
       "      <th>0</th>\n",
       "      <td>2022-11-20</td>\n",
       "      <td>Qatar</td>\n",
       "      <td>Ecuador</td>\n",
       "      <td>51.00</td>\n",
       "      <td>72.74</td>\n",
       "      <td>0</td>\n",
       "      <td>2</td>\n",
       "      <td>-21.74</td>\n",
       "      <td>-2</td>\n",
       "      <td>10.870000</td>\n",
       "    </tr>\n",
       "    <tr>\n",
       "      <th>1</th>\n",
       "      <td>2022-11-21</td>\n",
       "      <td>England</td>\n",
       "      <td>Iran</td>\n",
       "      <td>85.96</td>\n",
       "      <td>62.17</td>\n",
       "      <td>6</td>\n",
       "      <td>2</td>\n",
       "      <td>23.79</td>\n",
       "      <td>4</td>\n",
       "      <td>5.947500</td>\n",
       "    </tr>\n",
       "    <tr>\n",
       "      <th>2</th>\n",
       "      <td>2022-11-21</td>\n",
       "      <td>Senegal</td>\n",
       "      <td>Netherlands</td>\n",
       "      <td>73.84</td>\n",
       "      <td>86.01</td>\n",
       "      <td>0</td>\n",
       "      <td>2</td>\n",
       "      <td>-12.17</td>\n",
       "      <td>-2</td>\n",
       "      <td>6.085000</td>\n",
       "    </tr>\n",
       "    <tr>\n",
       "      <th>3</th>\n",
       "      <td>2022-11-21</td>\n",
       "      <td>USA</td>\n",
       "      <td>Wales</td>\n",
       "      <td>74.83</td>\n",
       "      <td>65.58</td>\n",
       "      <td>1</td>\n",
       "      <td>1</td>\n",
       "      <td>9.25</td>\n",
       "      <td>0</td>\n",
       "      <td>inf</td>\n",
       "    </tr>\n",
       "    <tr>\n",
       "      <th>4</th>\n",
       "      <td>2022-11-22</td>\n",
       "      <td>Argentina</td>\n",
       "      <td>Saudi Arabia</td>\n",
       "      <td>87.21</td>\n",
       "      <td>56.87</td>\n",
       "      <td>1</td>\n",
       "      <td>2</td>\n",
       "      <td>30.34</td>\n",
       "      <td>-1</td>\n",
       "      <td>-30.340000</td>\n",
       "    </tr>\n",
       "    <tr>\n",
       "      <th>...</th>\n",
       "      <td>...</td>\n",
       "      <td>...</td>\n",
       "      <td>...</td>\n",
       "      <td>...</td>\n",
       "      <td>...</td>\n",
       "      <td>...</td>\n",
       "      <td>...</td>\n",
       "      <td>...</td>\n",
       "      <td>...</td>\n",
       "      <td>...</td>\n",
       "    </tr>\n",
       "    <tr>\n",
       "      <th>59</th>\n",
       "      <td>2022-12-10</td>\n",
       "      <td>England</td>\n",
       "      <td>France</td>\n",
       "      <td>87.59</td>\n",
       "      <td>87.53</td>\n",
       "      <td>1</td>\n",
       "      <td>2</td>\n",
       "      <td>0.06</td>\n",
       "      <td>-1</td>\n",
       "      <td>-0.060000</td>\n",
       "    </tr>\n",
       "    <tr>\n",
       "      <th>60</th>\n",
       "      <td>2022-12-13</td>\n",
       "      <td>Argentina</td>\n",
       "      <td>Croatia</td>\n",
       "      <td>87.46</td>\n",
       "      <td>79.37</td>\n",
       "      <td>3</td>\n",
       "      <td>0</td>\n",
       "      <td>8.09</td>\n",
       "      <td>3</td>\n",
       "      <td>2.696667</td>\n",
       "    </tr>\n",
       "    <tr>\n",
       "      <th>61</th>\n",
       "      <td>2022-12-14</td>\n",
       "      <td>France</td>\n",
       "      <td>Morocco</td>\n",
       "      <td>87.72</td>\n",
       "      <td>75.13</td>\n",
       "      <td>2</td>\n",
       "      <td>0</td>\n",
       "      <td>12.59</td>\n",
       "      <td>2</td>\n",
       "      <td>6.295000</td>\n",
       "    </tr>\n",
       "    <tr>\n",
       "      <th>62</th>\n",
       "      <td>2022-12-17</td>\n",
       "      <td>Croatia</td>\n",
       "      <td>Morocco</td>\n",
       "      <td>77.65</td>\n",
       "      <td>73.92</td>\n",
       "      <td>2</td>\n",
       "      <td>1</td>\n",
       "      <td>3.73</td>\n",
       "      <td>1</td>\n",
       "      <td>3.730000</td>\n",
       "    </tr>\n",
       "    <tr>\n",
       "      <th>63</th>\n",
       "      <td>2022-12-18</td>\n",
       "      <td>Argentina</td>\n",
       "      <td>France</td>\n",
       "      <td>88.86</td>\n",
       "      <td>88.41</td>\n",
       "      <td>3</td>\n",
       "      <td>3</td>\n",
       "      <td>0.45</td>\n",
       "      <td>0</td>\n",
       "      <td>inf</td>\n",
       "    </tr>\n",
       "  </tbody>\n",
       "</table>\n",
       "<p>64 rows × 10 columns</p>\n",
       "</div>"
      ],
      "text/plain": [
       "          date      team1         team2   spi1   spi2  score1  score2  \\\n",
       "0   2022-11-20      Qatar       Ecuador  51.00  72.74       0       2   \n",
       "1   2022-11-21    England          Iran  85.96  62.17       6       2   \n",
       "2   2022-11-21    Senegal   Netherlands  73.84  86.01       0       2   \n",
       "3   2022-11-21        USA         Wales  74.83  65.58       1       1   \n",
       "4   2022-11-22  Argentina  Saudi Arabia  87.21  56.87       1       2   \n",
       "..         ...        ...           ...    ...    ...     ...     ...   \n",
       "59  2022-12-10    England        France  87.59  87.53       1       2   \n",
       "60  2022-12-13  Argentina       Croatia  87.46  79.37       3       0   \n",
       "61  2022-12-14     France       Morocco  87.72  75.13       2       0   \n",
       "62  2022-12-17    Croatia       Morocco  77.65  73.92       2       1   \n",
       "63  2022-12-18  Argentina        France  88.86  88.41       3       3   \n",
       "\n",
       "    spi1_spi2  score1_score2      ratio  \n",
       "0      -21.74             -2  10.870000  \n",
       "1       23.79              4   5.947500  \n",
       "2      -12.17             -2   6.085000  \n",
       "3        9.25              0        inf  \n",
       "4       30.34             -1 -30.340000  \n",
       "..        ...            ...        ...  \n",
       "59       0.06             -1  -0.060000  \n",
       "60       8.09              3   2.696667  \n",
       "61      12.59              2   6.295000  \n",
       "62       3.73              1   3.730000  \n",
       "63       0.45              0        inf  \n",
       "\n",
       "[64 rows x 10 columns]"
      ]
     },
     "execution_count": null,
     "metadata": {},
     "output_type": "execute_result"
    }
   ],
   "source": [
    "df"
   ]
  },
  {
   "cell_type": "code",
   "execution_count": null,
   "metadata": {},
   "outputs": [],
   "source": [
    "df.to_csv('project_runmeng_data.csv', index=False)"
   ]
  },
  {
   "cell_type": "markdown",
   "metadata": {},
   "source": [
    "## Conduct your analysis to help answer your research question(s)"
   ]
  },
  {
   "cell_type": "markdown",
   "metadata": {},
   "source": [
    "#### 1. What is the relationship between SPI and Score? How effective are SPI ratings as the only predictor of match outcomes in the 2022 World Cup?"
   ]
  },
  {
   "cell_type": "code",
   "execution_count": null,
   "metadata": {},
   "outputs": [
    {
     "data": {
      "text/plain": [
       "[Text(0.5, 1.0, 'Correlation between spi and score')]"
      ]
     },
     "execution_count": null,
     "metadata": {},
     "output_type": "execute_result"
    },
    {
     "data": {
      "image/png": "[encoded data removed]",
      "text/plain": [
       "<Figure size 640x480 with 2 Axes>"
      ]
     },
     "metadata": {},
     "output_type": "display_data"
    }
   ],
   "source": [
    "import seaborn as sns\n",
    "dfgra=df[['spi1','spi2','score1','score2']].corr()\n",
    "plot=sns.heatmap(dfgra, annot=True, cmap='coolwarm')\n",
    "plot.set(title=\"Correlation between spi and score\")"
   ]
  },
  {
   "cell_type": "code",
   "execution_count": null,
   "metadata": {},
   "outputs": [
    {
     "data": {
      "text/plain": [
       "[Text(0.5, 1.0, 'density of the ratio')]"
      ]
     },
     "execution_count": null,
     "metadata": {},
     "output_type": "execute_result"
    },
    {
     "data": {
      "image/png": "[encoded data removed]",
      "text/plain": [
       "<Figure size 640x480 with 1 Axes>"
      ]
     },
     "metadata": {},
     "output_type": "display_data"
    }
   ],
   "source": [
    "\n",
    "plot=sns.kdeplot(df['ratio'])\n",
    "plot.set(title=\"density of the ratio\")"
   ]
  },
  {
   "cell_type": "code",
   "execution_count": null,
   "metadata": {},
   "outputs": [
    {
     "data": {
      "text/plain": [
       "43"
      ]
     },
     "execution_count": null,
     "metadata": {},
     "output_type": "execute_result"
    }
   ],
   "source": [
    "positive_count = (df['ratio'] > 0).sum()\n",
    "positive_count"
   ]
  },
  {
   "cell_type": "code",
   "execution_count": null,
   "metadata": {},
   "outputs": [
    {
     "data": {
      "text/plain": [
       "0.671875"
      ]
     },
     "execution_count": null,
     "metadata": {},
     "output_type": "execute_result"
    }
   ],
   "source": [
    "Accuracy_rate=positive_count/len(df)\n",
    "Accuracy_rate"
   ]
  },
  {
   "cell_type": "markdown",
   "metadata": {},
   "source": [
    "#### It can be seen from hearmap that spi has a positive correlation with the corresponding score, and often the team with a high spi is more likely to get scores or win games. You can see from kdeplot that teams with high spi are more likely to win games than lose them. After calculating the positive and negative ratio of \"ratio\", it is found that the correct rate of using spi to predict the winning and losing of the match is 67.19%."
   ]
  },
  {
   "cell_type": "markdown",
   "metadata": {},
   "source": [
    "#### 2. How will SPI change as teams advance or play subsequent tournaments? How does this change relate to scoring?"
   ]
  },
  {
   "cell_type": "code",
   "execution_count": null,
   "metadata": {},
   "outputs": [
    {
     "data": {
      "text/html": [
       "<div>\n",
       "<style scoped>\n",
       "    .dataframe tbody tr th:only-of-type {\n",
       "        vertical-align: middle;\n",
       "    }\n",
       "\n",
       "    .dataframe tbody tr th {\n",
       "        vertical-align: top;\n",
       "    }\n",
       "\n",
       "    .dataframe thead th {\n",
       "        text-align: right;\n",
       "    }\n",
       "</style>\n",
       "<table border=\"1\" class=\"dataframe\">\n",
       "  <thead>\n",
       "    <tr style=\"text-align: right;\">\n",
       "      <th></th>\n",
       "      <th>date</th>\n",
       "      <th>team1</th>\n",
       "      <th>team2</th>\n",
       "      <th>spi1</th>\n",
       "      <th>spi2</th>\n",
       "      <th>score1</th>\n",
       "      <th>score2</th>\n",
       "      <th>spi1_spi2</th>\n",
       "      <th>score1_score2</th>\n",
       "      <th>ratio</th>\n",
       "    </tr>\n",
       "  </thead>\n",
       "  <tbody>\n",
       "    <tr>\n",
       "      <th>4</th>\n",
       "      <td>2022-11-22</td>\n",
       "      <td>Argentina</td>\n",
       "      <td>Saudi Arabia</td>\n",
       "      <td>87.21</td>\n",
       "      <td>56.87</td>\n",
       "      <td>1</td>\n",
       "      <td>2</td>\n",
       "      <td>30.34</td>\n",
       "      <td>-1</td>\n",
       "      <td>-30.340000</td>\n",
       "    </tr>\n",
       "    <tr>\n",
       "      <th>23</th>\n",
       "      <td>2022-11-26</td>\n",
       "      <td>Argentina</td>\n",
       "      <td>Mexico</td>\n",
       "      <td>86.09</td>\n",
       "      <td>73.48</td>\n",
       "      <td>2</td>\n",
       "      <td>0</td>\n",
       "      <td>12.61</td>\n",
       "      <td>2</td>\n",
       "      <td>6.305000</td>\n",
       "    </tr>\n",
       "    <tr>\n",
       "      <th>38</th>\n",
       "      <td>2022-11-30</td>\n",
       "      <td>Poland</td>\n",
       "      <td>Argentina</td>\n",
       "      <td>68.95</td>\n",
       "      <td>86.03</td>\n",
       "      <td>0</td>\n",
       "      <td>2</td>\n",
       "      <td>-17.08</td>\n",
       "      <td>-2</td>\n",
       "      <td>8.540000</td>\n",
       "    </tr>\n",
       "    <tr>\n",
       "      <th>49</th>\n",
       "      <td>2022-12-03</td>\n",
       "      <td>Argentina</td>\n",
       "      <td>Australia</td>\n",
       "      <td>87.98</td>\n",
       "      <td>59.35</td>\n",
       "      <td>2</td>\n",
       "      <td>1</td>\n",
       "      <td>28.63</td>\n",
       "      <td>1</td>\n",
       "      <td>28.630000</td>\n",
       "    </tr>\n",
       "    <tr>\n",
       "      <th>57</th>\n",
       "      <td>2022-12-09</td>\n",
       "      <td>Netherlands</td>\n",
       "      <td>Argentina</td>\n",
       "      <td>84.19</td>\n",
       "      <td>87.32</td>\n",
       "      <td>2</td>\n",
       "      <td>2</td>\n",
       "      <td>-3.13</td>\n",
       "      <td>0</td>\n",
       "      <td>-inf</td>\n",
       "    </tr>\n",
       "    <tr>\n",
       "      <th>60</th>\n",
       "      <td>2022-12-13</td>\n",
       "      <td>Argentina</td>\n",
       "      <td>Croatia</td>\n",
       "      <td>87.46</td>\n",
       "      <td>79.37</td>\n",
       "      <td>3</td>\n",
       "      <td>0</td>\n",
       "      <td>8.09</td>\n",
       "      <td>3</td>\n",
       "      <td>2.696667</td>\n",
       "    </tr>\n",
       "    <tr>\n",
       "      <th>63</th>\n",
       "      <td>2022-12-18</td>\n",
       "      <td>Argentina</td>\n",
       "      <td>France</td>\n",
       "      <td>88.86</td>\n",
       "      <td>88.41</td>\n",
       "      <td>3</td>\n",
       "      <td>3</td>\n",
       "      <td>0.45</td>\n",
       "      <td>0</td>\n",
       "      <td>inf</td>\n",
       "    </tr>\n",
       "  </tbody>\n",
       "</table>\n",
       "</div>"
      ],
      "text/plain": [
       "          date        team1         team2   spi1   spi2  score1  score2  \\\n",
       "4   2022-11-22    Argentina  Saudi Arabia  87.21  56.87       1       2   \n",
       "23  2022-11-26    Argentina        Mexico  86.09  73.48       2       0   \n",
       "38  2022-11-30       Poland     Argentina  68.95  86.03       0       2   \n",
       "49  2022-12-03    Argentina     Australia  87.98  59.35       2       1   \n",
       "57  2022-12-09  Netherlands     Argentina  84.19  87.32       2       2   \n",
       "60  2022-12-13    Argentina       Croatia  87.46  79.37       3       0   \n",
       "63  2022-12-18    Argentina        France  88.86  88.41       3       3   \n",
       "\n",
       "    spi1_spi2  score1_score2      ratio  \n",
       "4       30.34             -1 -30.340000  \n",
       "23      12.61              2   6.305000  \n",
       "38     -17.08             -2   8.540000  \n",
       "49      28.63              1  28.630000  \n",
       "57      -3.13              0       -inf  \n",
       "60       8.09              3   2.696667  \n",
       "63       0.45              0        inf  "
      ]
     },
     "execution_count": null,
     "metadata": {},
     "output_type": "execute_result"
    }
   ],
   "source": [
    "argentina_rows = df[(df['team1'] == 'Argentina') | (df['team2'] == 'Argentina')]\n",
    "argentina_rows\n"
   ]
  },
  {
   "cell_type": "code",
   "execution_count": null,
   "metadata": {},
   "outputs": [],
   "source": [
    "df.to_csv('argentina_runmeng_data.csv', index=False)"
   ]
  },
  {
   "cell_type": "markdown",
   "metadata": {},
   "source": [
    "\n",
    "#### Take Argentina as an example. After losing the first match in the group stage, Argentina's spi score dropped by only one point. After winning a match, the spi score also increased by about one point and accumulated with successive wins. The correlation between increased or decreased spi score and score is not obvious, because the change in spi is about one point regardless of win or loss.\n",
    "\n"
   ]
  },
  {
   "cell_type": "markdown",
   "metadata": {},
   "source": [
    "#### 3. How does their accuracy change over the course of the tournament as more teams advance? \n"
   ]
  },
  {
   "cell_type": "code",
   "execution_count": null,
   "metadata": {},
   "outputs": [
    {
     "data": {
      "text/html": [
       "<div>\n",
       "<style scoped>\n",
       "    .dataframe tbody tr th:only-of-type {\n",
       "        vertical-align: middle;\n",
       "    }\n",
       "\n",
       "    .dataframe tbody tr th {\n",
       "        vertical-align: top;\n",
       "    }\n",
       "\n",
       "    .dataframe thead th {\n",
       "        text-align: right;\n",
       "    }\n",
       "</style>\n",
       "<table border=\"1\" class=\"dataframe\">\n",
       "  <thead>\n",
       "    <tr style=\"text-align: right;\">\n",
       "      <th></th>\n",
       "      <th>date</th>\n",
       "      <th>team1</th>\n",
       "      <th>team2</th>\n",
       "      <th>spi1</th>\n",
       "      <th>spi2</th>\n",
       "      <th>score1</th>\n",
       "      <th>score2</th>\n",
       "      <th>spi1_spi2</th>\n",
       "      <th>score1_score2</th>\n",
       "      <th>ratio</th>\n",
       "    </tr>\n",
       "  </thead>\n",
       "  <tbody>\n",
       "    <tr>\n",
       "      <th>56</th>\n",
       "      <td>2022-12-09</td>\n",
       "      <td>Croatia</td>\n",
       "      <td>Brazil</td>\n",
       "      <td>78.99</td>\n",
       "      <td>93.47</td>\n",
       "      <td>1</td>\n",
       "      <td>1</td>\n",
       "      <td>-14.48</td>\n",
       "      <td>0</td>\n",
       "      <td>-inf</td>\n",
       "    </tr>\n",
       "    <tr>\n",
       "      <th>57</th>\n",
       "      <td>2022-12-09</td>\n",
       "      <td>Netherlands</td>\n",
       "      <td>Argentina</td>\n",
       "      <td>84.19</td>\n",
       "      <td>87.32</td>\n",
       "      <td>2</td>\n",
       "      <td>2</td>\n",
       "      <td>-3.13</td>\n",
       "      <td>0</td>\n",
       "      <td>-inf</td>\n",
       "    </tr>\n",
       "    <tr>\n",
       "      <th>58</th>\n",
       "      <td>2022-12-10</td>\n",
       "      <td>Morocco</td>\n",
       "      <td>Portugal</td>\n",
       "      <td>74.45</td>\n",
       "      <td>87.92</td>\n",
       "      <td>1</td>\n",
       "      <td>0</td>\n",
       "      <td>-13.47</td>\n",
       "      <td>1</td>\n",
       "      <td>-13.470000</td>\n",
       "    </tr>\n",
       "    <tr>\n",
       "      <th>59</th>\n",
       "      <td>2022-12-10</td>\n",
       "      <td>England</td>\n",
       "      <td>France</td>\n",
       "      <td>87.59</td>\n",
       "      <td>87.53</td>\n",
       "      <td>1</td>\n",
       "      <td>2</td>\n",
       "      <td>0.06</td>\n",
       "      <td>-1</td>\n",
       "      <td>-0.060000</td>\n",
       "    </tr>\n",
       "    <tr>\n",
       "      <th>60</th>\n",
       "      <td>2022-12-13</td>\n",
       "      <td>Argentina</td>\n",
       "      <td>Croatia</td>\n",
       "      <td>87.46</td>\n",
       "      <td>79.37</td>\n",
       "      <td>3</td>\n",
       "      <td>0</td>\n",
       "      <td>8.09</td>\n",
       "      <td>3</td>\n",
       "      <td>2.696667</td>\n",
       "    </tr>\n",
       "    <tr>\n",
       "      <th>61</th>\n",
       "      <td>2022-12-14</td>\n",
       "      <td>France</td>\n",
       "      <td>Morocco</td>\n",
       "      <td>87.72</td>\n",
       "      <td>75.13</td>\n",
       "      <td>2</td>\n",
       "      <td>0</td>\n",
       "      <td>12.59</td>\n",
       "      <td>2</td>\n",
       "      <td>6.295000</td>\n",
       "    </tr>\n",
       "    <tr>\n",
       "      <th>62</th>\n",
       "      <td>2022-12-17</td>\n",
       "      <td>Croatia</td>\n",
       "      <td>Morocco</td>\n",
       "      <td>77.65</td>\n",
       "      <td>73.92</td>\n",
       "      <td>2</td>\n",
       "      <td>1</td>\n",
       "      <td>3.73</td>\n",
       "      <td>1</td>\n",
       "      <td>3.730000</td>\n",
       "    </tr>\n",
       "    <tr>\n",
       "      <th>63</th>\n",
       "      <td>2022-12-18</td>\n",
       "      <td>Argentina</td>\n",
       "      <td>France</td>\n",
       "      <td>88.86</td>\n",
       "      <td>88.41</td>\n",
       "      <td>3</td>\n",
       "      <td>3</td>\n",
       "      <td>0.45</td>\n",
       "      <td>0</td>\n",
       "      <td>inf</td>\n",
       "    </tr>\n",
       "  </tbody>\n",
       "</table>\n",
       "</div>"
      ],
      "text/plain": [
       "          date        team1      team2   spi1   spi2  score1  score2  \\\n",
       "56  2022-12-09      Croatia     Brazil  78.99  93.47       1       1   \n",
       "57  2022-12-09  Netherlands  Argentina  84.19  87.32       2       2   \n",
       "58  2022-12-10      Morocco   Portugal  74.45  87.92       1       0   \n",
       "59  2022-12-10      England     France  87.59  87.53       1       2   \n",
       "60  2022-12-13    Argentina    Croatia  87.46  79.37       3       0   \n",
       "61  2022-12-14       France    Morocco  87.72  75.13       2       0   \n",
       "62  2022-12-17      Croatia    Morocco  77.65  73.92       2       1   \n",
       "63  2022-12-18    Argentina     France  88.86  88.41       3       3   \n",
       "\n",
       "    spi1_spi2  score1_score2      ratio  \n",
       "56     -14.48              0       -inf  \n",
       "57      -3.13              0       -inf  \n",
       "58     -13.47              1 -13.470000  \n",
       "59       0.06             -1  -0.060000  \n",
       "60       8.09              3   2.696667  \n",
       "61      12.59              2   6.295000  \n",
       "62       3.73              1   3.730000  \n",
       "63       0.45              0        inf  "
      ]
     },
     "execution_count": null,
     "metadata": {},
     "output_type": "execute_result"
    }
   ],
   "source": [
    "df_after=df[56:]\n",
    "df_after"
   ]
  },
  {
   "cell_type": "code",
   "execution_count": null,
   "metadata": {},
   "outputs": [
    {
     "data": {
      "text/plain": [
       "4"
      ]
     },
     "execution_count": null,
     "metadata": {},
     "output_type": "execute_result"
    }
   ],
   "source": [
    "positive_count_after = (df_after['ratio'] > 0).sum()\n",
    "positive_count_after "
   ]
  },
  {
   "cell_type": "code",
   "execution_count": null,
   "metadata": {},
   "outputs": [
    {
     "data": {
      "text/plain": [
       "0.5"
      ]
     },
     "execution_count": null,
     "metadata": {},
     "output_type": "execute_result"
    }
   ],
   "source": [
    "Accuracy_rate_after=positive_count_after/len(df[56:])\n",
    "Accuracy_rate_after"
   ]
  },
  {
   "cell_type": "code",
   "execution_count": null,
   "metadata": {},
   "outputs": [
    {
     "data": {
      "text/plain": [
       "39"
      ]
     },
     "execution_count": null,
     "metadata": {},
     "output_type": "execute_result"
    }
   ],
   "source": [
    "df_group=df[:56]\n",
    "positive_count_group = (df_group['ratio'] > 0).sum()\n",
    "positive_count_group"
   ]
  },
  {
   "cell_type": "code",
   "execution_count": null,
   "metadata": {},
   "outputs": [
    {
     "data": {
      "text/plain": [
       "0.6964285714285714"
      ]
     },
     "execution_count": null,
     "metadata": {},
     "output_type": "execute_result"
    }
   ],
   "source": [
    "Accuracy_rate_group=positive_count_group/len(df[:56])\n",
    "Accuracy_rate_group"
   ]
  },
  {
   "cell_type": "markdown",
   "metadata": {},
   "source": [
    "#### As the game progressed, the team with the highest spi from the group stage won the game 50 percent of the time, whereas at the group stage, the team with the highest spi won the game 69.6 percent of the time, close to 70 percent. So, as matches go on and teams advance, spi's accuracy in predicting winning matches decreases."
   ]
  },
  {
   "cell_type": "code",
   "execution_count": null,
   "metadata": {},
   "outputs": [],
   "source": []
  }
 ],
 "metadata": {
  "kernelspec": {
   "display_name": "Python 3 (ipykernel)",
   "language": "python",
   "name": "python3"
  }
 },
 "nbformat": 4,
 "nbformat_minor": 4
}
