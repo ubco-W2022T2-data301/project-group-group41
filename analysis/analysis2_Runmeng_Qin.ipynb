{
 "cells": [
  {
   "cell_type": "markdown",
   "metadata": {},
   "source": [
    "# Runmeng Qin"
   ]
  },
  {
   "cell_type": "markdown",
   "metadata": {},
   "source": [
    "## Research question/interests\n",
    "\n",
    "## How effective are SPI ratings as the only predictor of match outcomes in the 2022 World Cup, and how does their accuracy change over the course of the tournament as more teams advance?\n",
    "\n"
   ]
  },
  {
   "cell_type": "markdown",
   "metadata": {},
   "source": [
    "#### Each team has SPI ratings for each game,  which are a combination of each team's recent match results and the overall quality of its World Cup roster.  I'd be curious to see how well SPI ratings alone predicted the winner versus the real score, and whether that accuracy improves as more teams advance. \n",
    "\n",
    "#### I'm going to do is clean the data(wc_matches.csv) and group separate datasets by game date and team. I will use the columns of 'date', 'team1', 'team2', 'spi1', 'spi2', 'score1', 'score2' as the data basis for my research question. These data should be able to support my research question by comparing the relationship between team, spi and score under different dates.In addition, the potential relationship can be analyzed based on the score and spi ratio between the two teams in each match.\n",
    "\n",
    "#### SPI is based on goals scored and allowed, not wins, losses and draws. Therefore, through the following analysis, the relationship between pre-match spi and post-match score can be observed. "
   ]
  },
  {
   "cell_type": "code",
   "execution_count": null,
   "metadata": {},
   "outputs": [],
   "source": [
    "import pandas as pd\n",
    "df=pd.read_csv(\"https://projects.fivethirtyeight.com/soccer-api/international/2022/wc_matches.csv\")"
   ]
  },
  {
   "cell_type": "code",
   "execution_count": null,
   "metadata": {},
   "outputs": [],
   "source": [
    "df_use=df[['date','team1','team2','spi1','spi2','score1','score2']]"
   ]
  },
  {
   "cell_type": "code",
   "execution_count": null,
   "metadata": {},
   "outputs": [
    {
     "data": {
      "text/html": [
       "<div>\n",
       "<style scoped>\n",
       "    .dataframe tbody tr th:only-of-type {\n",
       "        vertical-align: middle;\n",
       "    }\n",
       "\n",
       "    .dataframe tbody tr th {\n",
       "        vertical-align: top;\n",
       "    }\n",
       "\n",
       "    .dataframe thead th {\n",
       "        text-align: right;\n",
       "    }\n",
       "</style>\n",
       "<table border=\"1\" class=\"dataframe\">\n",
       "  <thead>\n",
       "    <tr style=\"text-align: right;\">\n",
       "      <th></th>\n",
       "      <th>date</th>\n",
       "      <th>team1</th>\n",
       "      <th>team2</th>\n",
       "      <th>spi1</th>\n",
       "      <th>spi2</th>\n",
       "      <th>score1</th>\n",
       "      <th>score2</th>\n",
       "    </tr>\n",
       "  </thead>\n",
       "  <tbody>\n",
       "    <tr>\n",
       "      <th>0</th>\n",
       "      <td>2022-11-20</td>\n",
       "      <td>Qatar</td>\n",
       "      <td>Ecuador</td>\n",
       "      <td>51.00</td>\n",
       "      <td>72.74</td>\n",
       "      <td>0</td>\n",
       "      <td>2</td>\n",
       "    </tr>\n",
       "    <tr>\n",
       "      <th>1</th>\n",
       "      <td>2022-11-21</td>\n",
       "      <td>England</td>\n",
       "      <td>Iran</td>\n",
       "      <td>85.96</td>\n",
       "      <td>62.17</td>\n",
       "      <td>6</td>\n",
       "      <td>2</td>\n",
       "    </tr>\n",
       "    <tr>\n",
       "      <th>2</th>\n",
       "      <td>2022-11-21</td>\n",
       "      <td>Senegal</td>\n",
       "      <td>Netherlands</td>\n",
       "      <td>73.84</td>\n",
       "      <td>86.01</td>\n",
       "      <td>0</td>\n",
       "      <td>2</td>\n",
       "    </tr>\n",
       "    <tr>\n",
       "      <th>3</th>\n",
       "      <td>2022-11-21</td>\n",
       "      <td>USA</td>\n",
       "      <td>Wales</td>\n",
       "      <td>74.83</td>\n",
       "      <td>65.58</td>\n",
       "      <td>1</td>\n",
       "      <td>1</td>\n",
       "    </tr>\n",
       "    <tr>\n",
       "      <th>4</th>\n",
       "      <td>2022-11-22</td>\n",
       "      <td>Argentina</td>\n",
       "      <td>Saudi Arabia</td>\n",
       "      <td>87.21</td>\n",
       "      <td>56.87</td>\n",
       "      <td>1</td>\n",
       "      <td>2</td>\n",
       "    </tr>\n",
       "  </tbody>\n",
       "</table>\n",
       "</div>"
      ],
      "text/plain": [
       "         date      team1         team2   spi1   spi2  score1  score2\n",
       "0  2022-11-20      Qatar       Ecuador  51.00  72.74       0       2\n",
       "1  2022-11-21    England          Iran  85.96  62.17       6       2\n",
       "2  2022-11-21    Senegal   Netherlands  73.84  86.01       0       2\n",
       "3  2022-11-21        USA         Wales  74.83  65.58       1       1\n",
       "4  2022-11-22  Argentina  Saudi Arabia  87.21  56.87       1       2"
      ]
     },
     "execution_count": null,
     "metadata": {},
     "output_type": "execute_result"
    }
   ],
   "source": [
    "df_use.head()"
   ]
  },
  {
   "cell_type": "markdown",
   "metadata": {},
   "source": [
    "## EDA"
   ]
  },
  {
   "cell_type": "code",
   "execution_count": null,
   "metadata": {},
   "outputs": [],
   "source": [
    "import numpy as np \n",
    "import pandas as pd \n",
    "import matplotlib.pylab as plt \n",
    "import seaborn as sns"
   ]
  },
  {
   "cell_type": "code",
   "execution_count": null,
   "metadata": {},
   "outputs": [
    {
     "data": {
      "text/plain": [
       "(64, 7)"
      ]
     },
     "execution_count": null,
     "metadata": {},
     "output_type": "execute_result"
    }
   ],
   "source": [
    "df_use.shape"
   ]
  },
  {
   "cell_type": "code",
   "execution_count": null,
   "metadata": {},
   "outputs": [
    {
     "data": {
      "text/html": [
       "<div>\n",
       "<style scoped>\n",
       "    .dataframe tbody tr th:only-of-type {\n",
       "        vertical-align: middle;\n",
       "    }\n",
       "\n",
       "    .dataframe tbody tr th {\n",
       "        vertical-align: top;\n",
       "    }\n",
       "\n",
       "    .dataframe thead th {\n",
       "        text-align: right;\n",
       "    }\n",
       "</style>\n",
       "<table border=\"1\" class=\"dataframe\">\n",
       "  <thead>\n",
       "    <tr style=\"text-align: right;\">\n",
       "      <th></th>\n",
       "      <th>spi1</th>\n",
       "      <th>spi2</th>\n",
       "      <th>score1</th>\n",
       "      <th>score2</th>\n",
       "    </tr>\n",
       "  </thead>\n",
       "  <tbody>\n",
       "    <tr>\n",
       "      <th>count</th>\n",
       "      <td>64.000000</td>\n",
       "      <td>64.000000</td>\n",
       "      <td>64.000000</td>\n",
       "      <td>64.000000</td>\n",
       "    </tr>\n",
       "    <tr>\n",
       "      <th>mean</th>\n",
       "      <td>77.321094</td>\n",
       "      <td>74.295781</td>\n",
       "      <td>1.578125</td>\n",
       "      <td>1.109375</td>\n",
       "    </tr>\n",
       "    <tr>\n",
       "      <th>std</th>\n",
       "      <td>11.158028</td>\n",
       "      <td>10.785255</td>\n",
       "      <td>1.551289</td>\n",
       "      <td>1.055856</td>\n",
       "    </tr>\n",
       "    <tr>\n",
       "      <th>min</th>\n",
       "      <td>48.160000</td>\n",
       "      <td>48.460000</td>\n",
       "      <td>0.000000</td>\n",
       "      <td>0.000000</td>\n",
       "    </tr>\n",
       "    <tr>\n",
       "      <th>25%</th>\n",
       "      <td>68.747500</td>\n",
       "      <td>66.052500</td>\n",
       "      <td>0.000000</td>\n",
       "      <td>0.000000</td>\n",
       "    </tr>\n",
       "    <tr>\n",
       "      <th>50%</th>\n",
       "      <td>78.725000</td>\n",
       "      <td>74.460000</td>\n",
       "      <td>1.000000</td>\n",
       "      <td>1.000000</td>\n",
       "    </tr>\n",
       "    <tr>\n",
       "      <th>75%</th>\n",
       "      <td>87.232500</td>\n",
       "      <td>79.505000</td>\n",
       "      <td>2.000000</td>\n",
       "      <td>2.000000</td>\n",
       "    </tr>\n",
       "    <tr>\n",
       "      <th>max</th>\n",
       "      <td>93.660000</td>\n",
       "      <td>93.480000</td>\n",
       "      <td>7.000000</td>\n",
       "      <td>4.000000</td>\n",
       "    </tr>\n",
       "  </tbody>\n",
       "</table>\n",
       "</div>"
      ],
      "text/plain": [
       "            spi1       spi2     score1     score2\n",
       "count  64.000000  64.000000  64.000000  64.000000\n",
       "mean   77.321094  74.295781   1.578125   1.109375\n",
       "std    11.158028  10.785255   1.551289   1.055856\n",
       "min    48.160000  48.460000   0.000000   0.000000\n",
       "25%    68.747500  66.052500   0.000000   0.000000\n",
       "50%    78.725000  74.460000   1.000000   1.000000\n",
       "75%    87.232500  79.505000   2.000000   2.000000\n",
       "max    93.660000  93.480000   7.000000   4.000000"
      ]
     },
     "execution_count": null,
     "metadata": {},
     "output_type": "execute_result"
    }
   ],
   "source": [
    "df_use.describe()"
   ]
  },
  {
   "cell_type": "code",
   "execution_count": null,
   "metadata": {},
   "outputs": [
    {
     "data": {
      "text/plain": [
       "date       object\n",
       "team1      object\n",
       "team2      object\n",
       "spi1      float64\n",
       "spi2      float64\n",
       "score1      int64\n",
       "score2      int64\n",
       "dtype: object"
      ]
     },
     "execution_count": null,
     "metadata": {},
     "output_type": "execute_result"
    }
   ],
   "source": [
    "df_use.dtypes"
   ]
  },
  {
   "cell_type": "code",
   "execution_count": null,
   "metadata": {},
   "outputs": [
    {
     "data": {
      "text/plain": [
       "23"
      ]
     },
     "execution_count": null,
     "metadata": {},
     "output_type": "execute_result"
    }
   ],
   "source": [
    "len(df_use['date'].unique())"
   ]
  },
  {
   "cell_type": "code",
   "execution_count": null,
   "metadata": {},
   "outputs": [
    {
     "data": {
      "text/html": [
       "<div>\n",
       "<style scoped>\n",
       "    .dataframe tbody tr th:only-of-type {\n",
       "        vertical-align: middle;\n",
       "    }\n",
       "\n",
       "    .dataframe tbody tr th {\n",
       "        vertical-align: top;\n",
       "    }\n",
       "\n",
       "    .dataframe thead th {\n",
       "        text-align: right;\n",
       "    }\n",
       "</style>\n",
       "<table border=\"1\" class=\"dataframe\">\n",
       "  <thead>\n",
       "    <tr style=\"text-align: right;\">\n",
       "      <th></th>\n",
       "      <th>date</th>\n",
       "      <th>team1</th>\n",
       "      <th>team2</th>\n",
       "      <th>spi1</th>\n",
       "      <th>spi2</th>\n",
       "      <th>score1</th>\n",
       "      <th>score2</th>\n",
       "    </tr>\n",
       "  </thead>\n",
       "  <tbody>\n",
       "    <tr>\n",
       "      <th>0</th>\n",
       "      <td>2022-11-20</td>\n",
       "      <td>Qatar</td>\n",
       "      <td>Ecuador</td>\n",
       "      <td>51.00</td>\n",
       "      <td>72.74</td>\n",
       "      <td>0</td>\n",
       "      <td>2</td>\n",
       "    </tr>\n",
       "    <tr>\n",
       "      <th>1</th>\n",
       "      <td>2022-11-21</td>\n",
       "      <td>England</td>\n",
       "      <td>Iran</td>\n",
       "      <td>85.96</td>\n",
       "      <td>62.17</td>\n",
       "      <td>6</td>\n",
       "      <td>2</td>\n",
       "    </tr>\n",
       "    <tr>\n",
       "      <th>2</th>\n",
       "      <td>2022-11-21</td>\n",
       "      <td>Senegal</td>\n",
       "      <td>Netherlands</td>\n",
       "      <td>73.84</td>\n",
       "      <td>86.01</td>\n",
       "      <td>0</td>\n",
       "      <td>2</td>\n",
       "    </tr>\n",
       "    <tr>\n",
       "      <th>3</th>\n",
       "      <td>2022-11-21</td>\n",
       "      <td>USA</td>\n",
       "      <td>Wales</td>\n",
       "      <td>74.83</td>\n",
       "      <td>65.58</td>\n",
       "      <td>1</td>\n",
       "      <td>1</td>\n",
       "    </tr>\n",
       "    <tr>\n",
       "      <th>4</th>\n",
       "      <td>2022-11-22</td>\n",
       "      <td>Argentina</td>\n",
       "      <td>Saudi Arabia</td>\n",
       "      <td>87.21</td>\n",
       "      <td>56.87</td>\n",
       "      <td>1</td>\n",
       "      <td>2</td>\n",
       "    </tr>\n",
       "  </tbody>\n",
       "</table>\n",
       "</div>"
      ],
      "text/plain": [
       "         date      team1         team2   spi1   spi2  score1  score2\n",
       "0  2022-11-20      Qatar       Ecuador  51.00  72.74       0       2\n",
       "1  2022-11-21    England          Iran  85.96  62.17       6       2\n",
       "2  2022-11-21    Senegal   Netherlands  73.84  86.01       0       2\n",
       "3  2022-11-21        USA         Wales  74.83  65.58       1       1\n",
       "4  2022-11-22  Argentina  Saudi Arabia  87.21  56.87       1       2"
      ]
     },
     "execution_count": null,
     "metadata": {},
     "output_type": "execute_result"
    }
   ],
   "source": [
    "#In order to see the spi changes of different schedules of each team more clearly, \n",
    "#I will divide it into different dataframe for analysis respectively by the game schedule, and finally combine the analysis.\n",
    "df_groupStage=df_use[0:48]\n",
    "df_groupStage.head()\n",
    "# group stage"
   ]
  },
  {
   "cell_type": "code",
   "execution_count": null,
   "metadata": {},
   "outputs": [
    {
     "data": {
      "text/html": [
       "<div>\n",
       "<style scoped>\n",
       "    .dataframe tbody tr th:only-of-type {\n",
       "        vertical-align: middle;\n",
       "    }\n",
       "\n",
       "    .dataframe tbody tr th {\n",
       "        vertical-align: top;\n",
       "    }\n",
       "\n",
       "    .dataframe thead th {\n",
       "        text-align: right;\n",
       "    }\n",
       "</style>\n",
       "<table border=\"1\" class=\"dataframe\">\n",
       "  <thead>\n",
       "    <tr style=\"text-align: right;\">\n",
       "      <th></th>\n",
       "      <th>date</th>\n",
       "      <th>team1</th>\n",
       "      <th>team2</th>\n",
       "      <th>spi1</th>\n",
       "      <th>spi2</th>\n",
       "      <th>score1</th>\n",
       "      <th>score2</th>\n",
       "    </tr>\n",
       "  </thead>\n",
       "  <tbody>\n",
       "    <tr>\n",
       "      <th>48</th>\n",
       "      <td>2022-12-03</td>\n",
       "      <td>Netherlands</td>\n",
       "      <td>USA</td>\n",
       "      <td>83.97</td>\n",
       "      <td>73.07</td>\n",
       "      <td>3</td>\n",
       "      <td>1</td>\n",
       "    </tr>\n",
       "    <tr>\n",
       "      <th>49</th>\n",
       "      <td>2022-12-03</td>\n",
       "      <td>Argentina</td>\n",
       "      <td>Australia</td>\n",
       "      <td>87.98</td>\n",
       "      <td>59.35</td>\n",
       "      <td>2</td>\n",
       "      <td>1</td>\n",
       "    </tr>\n",
       "    <tr>\n",
       "      <th>50</th>\n",
       "      <td>2022-12-04</td>\n",
       "      <td>France</td>\n",
       "      <td>Poland</td>\n",
       "      <td>88.57</td>\n",
       "      <td>65.77</td>\n",
       "      <td>3</td>\n",
       "      <td>1</td>\n",
       "    </tr>\n",
       "    <tr>\n",
       "      <th>51</th>\n",
       "      <td>2022-12-04</td>\n",
       "      <td>England</td>\n",
       "      <td>Senegal</td>\n",
       "      <td>86.97</td>\n",
       "      <td>75.47</td>\n",
       "      <td>3</td>\n",
       "      <td>0</td>\n",
       "    </tr>\n",
       "    <tr>\n",
       "      <th>52</th>\n",
       "      <td>2022-12-05</td>\n",
       "      <td>Japan</td>\n",
       "      <td>Croatia</td>\n",
       "      <td>73.02</td>\n",
       "      <td>79.14</td>\n",
       "      <td>1</td>\n",
       "      <td>1</td>\n",
       "    </tr>\n",
       "    <tr>\n",
       "      <th>53</th>\n",
       "      <td>2022-12-05</td>\n",
       "      <td>Brazil</td>\n",
       "      <td>South Korea</td>\n",
       "      <td>92.90</td>\n",
       "      <td>69.40</td>\n",
       "      <td>4</td>\n",
       "      <td>1</td>\n",
       "    </tr>\n",
       "    <tr>\n",
       "      <th>54</th>\n",
       "      <td>2022-12-06</td>\n",
       "      <td>Morocco</td>\n",
       "      <td>Spain</td>\n",
       "      <td>74.42</td>\n",
       "      <td>89.20</td>\n",
       "      <td>0</td>\n",
       "      <td>0</td>\n",
       "    </tr>\n",
       "    <tr>\n",
       "      <th>55</th>\n",
       "      <td>2022-12-06</td>\n",
       "      <td>Portugal</td>\n",
       "      <td>Switzerland</td>\n",
       "      <td>85.80</td>\n",
       "      <td>78.51</td>\n",
       "      <td>6</td>\n",
       "      <td>1</td>\n",
       "    </tr>\n",
       "  </tbody>\n",
       "</table>\n",
       "</div>"
      ],
      "text/plain": [
       "          date        team1        team2   spi1   spi2  score1  score2\n",
       "48  2022-12-03  Netherlands          USA  83.97  73.07       3       1\n",
       "49  2022-12-03    Argentina    Australia  87.98  59.35       2       1\n",
       "50  2022-12-04       France       Poland  88.57  65.77       3       1\n",
       "51  2022-12-04      England      Senegal  86.97  75.47       3       0\n",
       "52  2022-12-05        Japan      Croatia  73.02  79.14       1       1\n",
       "53  2022-12-05       Brazil  South Korea  92.90  69.40       4       1\n",
       "54  2022-12-06      Morocco        Spain  74.42  89.20       0       0\n",
       "55  2022-12-06     Portugal  Switzerland  85.80  78.51       6       1"
      ]
     },
     "execution_count": null,
     "metadata": {},
     "output_type": "execute_result"
    }
   ],
   "source": [
    "df_roundOSixteen=df_use[48:56]\n",
    "df_roundOSixteen"
   ]
  },
  {
   "cell_type": "code",
   "execution_count": null,
   "metadata": {},
   "outputs": [
    {
     "data": {
      "text/html": [
       "<div>\n",
       "<style scoped>\n",
       "    .dataframe tbody tr th:only-of-type {\n",
       "        vertical-align: middle;\n",
       "    }\n",
       "\n",
       "    .dataframe tbody tr th {\n",
       "        vertical-align: top;\n",
       "    }\n",
       "\n",
       "    .dataframe thead th {\n",
       "        text-align: right;\n",
       "    }\n",
       "</style>\n",
       "<table border=\"1\" class=\"dataframe\">\n",
       "  <thead>\n",
       "    <tr style=\"text-align: right;\">\n",
       "      <th></th>\n",
       "      <th>date</th>\n",
       "      <th>team1</th>\n",
       "      <th>team2</th>\n",
       "      <th>spi1</th>\n",
       "      <th>spi2</th>\n",
       "      <th>score1</th>\n",
       "      <th>score2</th>\n",
       "    </tr>\n",
       "  </thead>\n",
       "  <tbody>\n",
       "    <tr>\n",
       "      <th>56</th>\n",
       "      <td>2022-12-09</td>\n",
       "      <td>Croatia</td>\n",
       "      <td>Brazil</td>\n",
       "      <td>78.99</td>\n",
       "      <td>93.47</td>\n",
       "      <td>1</td>\n",
       "      <td>1</td>\n",
       "    </tr>\n",
       "    <tr>\n",
       "      <th>57</th>\n",
       "      <td>2022-12-09</td>\n",
       "      <td>Netherlands</td>\n",
       "      <td>Argentina</td>\n",
       "      <td>84.19</td>\n",
       "      <td>87.32</td>\n",
       "      <td>2</td>\n",
       "      <td>2</td>\n",
       "    </tr>\n",
       "    <tr>\n",
       "      <th>58</th>\n",
       "      <td>2022-12-10</td>\n",
       "      <td>Morocco</td>\n",
       "      <td>Portugal</td>\n",
       "      <td>74.45</td>\n",
       "      <td>87.92</td>\n",
       "      <td>1</td>\n",
       "      <td>0</td>\n",
       "    </tr>\n",
       "    <tr>\n",
       "      <th>59</th>\n",
       "      <td>2022-12-10</td>\n",
       "      <td>England</td>\n",
       "      <td>France</td>\n",
       "      <td>87.59</td>\n",
       "      <td>87.53</td>\n",
       "      <td>1</td>\n",
       "      <td>2</td>\n",
       "    </tr>\n",
       "  </tbody>\n",
       "</table>\n",
       "</div>"
      ],
      "text/plain": [
       "          date        team1      team2   spi1   spi2  score1  score2\n",
       "56  2022-12-09      Croatia     Brazil  78.99  93.47       1       1\n",
       "57  2022-12-09  Netherlands  Argentina  84.19  87.32       2       2\n",
       "58  2022-12-10      Morocco   Portugal  74.45  87.92       1       0\n",
       "59  2022-12-10      England     France  87.59  87.53       1       2"
      ]
     },
     "execution_count": null,
     "metadata": {},
     "output_type": "execute_result"
    }
   ],
   "source": [
    "df_quarterFinals=df_use[56:60]\n",
    "df_quarterFinals"
   ]
  },
  {
   "cell_type": "code",
   "execution_count": null,
   "metadata": {},
   "outputs": [
    {
     "data": {
      "text/html": [
       "<div>\n",
       "<style scoped>\n",
       "    .dataframe tbody tr th:only-of-type {\n",
       "        vertical-align: middle;\n",
       "    }\n",
       "\n",
       "    .dataframe tbody tr th {\n",
       "        vertical-align: top;\n",
       "    }\n",
       "\n",
       "    .dataframe thead th {\n",
       "        text-align: right;\n",
       "    }\n",
       "</style>\n",
       "<table border=\"1\" class=\"dataframe\">\n",
       "  <thead>\n",
       "    <tr style=\"text-align: right;\">\n",
       "      <th></th>\n",
       "      <th>date</th>\n",
       "      <th>team1</th>\n",
       "      <th>team2</th>\n",
       "      <th>spi1</th>\n",
       "      <th>spi2</th>\n",
       "      <th>score1</th>\n",
       "      <th>score2</th>\n",
       "    </tr>\n",
       "  </thead>\n",
       "  <tbody>\n",
       "    <tr>\n",
       "      <th>60</th>\n",
       "      <td>2022-12-13</td>\n",
       "      <td>Argentina</td>\n",
       "      <td>Croatia</td>\n",
       "      <td>87.46</td>\n",
       "      <td>79.37</td>\n",
       "      <td>3</td>\n",
       "      <td>0</td>\n",
       "    </tr>\n",
       "    <tr>\n",
       "      <th>61</th>\n",
       "      <td>2022-12-14</td>\n",
       "      <td>France</td>\n",
       "      <td>Morocco</td>\n",
       "      <td>87.72</td>\n",
       "      <td>75.13</td>\n",
       "      <td>2</td>\n",
       "      <td>0</td>\n",
       "    </tr>\n",
       "  </tbody>\n",
       "</table>\n",
       "</div>"
      ],
      "text/plain": [
       "          date      team1    team2   spi1   spi2  score1  score2\n",
       "60  2022-12-13  Argentina  Croatia  87.46  79.37       3       0\n",
       "61  2022-12-14     France  Morocco  87.72  75.13       2       0"
      ]
     },
     "execution_count": null,
     "metadata": {},
     "output_type": "execute_result"
    }
   ],
   "source": [
    "df_semifinal=df_use[60:62]\n",
    "df_semifinal"
   ]
  },
  {
   "cell_type": "code",
   "execution_count": null,
   "metadata": {},
   "outputs": [
    {
     "data": {
      "text/html": [
       "<div>\n",
       "<style scoped>\n",
       "    .dataframe tbody tr th:only-of-type {\n",
       "        vertical-align: middle;\n",
       "    }\n",
       "\n",
       "    .dataframe tbody tr th {\n",
       "        vertical-align: top;\n",
       "    }\n",
       "\n",
       "    .dataframe thead th {\n",
       "        text-align: right;\n",
       "    }\n",
       "</style>\n",
       "<table border=\"1\" class=\"dataframe\">\n",
       "  <thead>\n",
       "    <tr style=\"text-align: right;\">\n",
       "      <th></th>\n",
       "      <th>date</th>\n",
       "      <th>team1</th>\n",
       "      <th>team2</th>\n",
       "      <th>spi1</th>\n",
       "      <th>spi2</th>\n",
       "      <th>score1</th>\n",
       "      <th>score2</th>\n",
       "    </tr>\n",
       "  </thead>\n",
       "  <tbody>\n",
       "    <tr>\n",
       "      <th>62</th>\n",
       "      <td>2022-12-17</td>\n",
       "      <td>Croatia</td>\n",
       "      <td>Morocco</td>\n",
       "      <td>77.65</td>\n",
       "      <td>73.92</td>\n",
       "      <td>2</td>\n",
       "      <td>1</td>\n",
       "    </tr>\n",
       "  </tbody>\n",
       "</table>\n",
       "</div>"
      ],
      "text/plain": [
       "          date    team1    team2   spi1   spi2  score1  score2\n",
       "62  2022-12-17  Croatia  Morocco  77.65  73.92       2       1"
      ]
     },
     "execution_count": null,
     "metadata": {},
     "output_type": "execute_result"
    }
   ],
   "source": [
    "df_ThirdPlaceMatch=df_use[62:63]\n",
    "df_ThirdPlaceMatch"
   ]
  },
  {
   "cell_type": "code",
   "execution_count": null,
   "metadata": {},
   "outputs": [
    {
     "data": {
      "text/html": [
       "<div>\n",
       "<style scoped>\n",
       "    .dataframe tbody tr th:only-of-type {\n",
       "        vertical-align: middle;\n",
       "    }\n",
       "\n",
       "    .dataframe tbody tr th {\n",
       "        vertical-align: top;\n",
       "    }\n",
       "\n",
       "    .dataframe thead th {\n",
       "        text-align: right;\n",
       "    }\n",
       "</style>\n",
       "<table border=\"1\" class=\"dataframe\">\n",
       "  <thead>\n",
       "    <tr style=\"text-align: right;\">\n",
       "      <th></th>\n",
       "      <th>date</th>\n",
       "      <th>team1</th>\n",
       "      <th>team2</th>\n",
       "      <th>spi1</th>\n",
       "      <th>spi2</th>\n",
       "      <th>score1</th>\n",
       "      <th>score2</th>\n",
       "    </tr>\n",
       "  </thead>\n",
       "  <tbody>\n",
       "    <tr>\n",
       "      <th>63</th>\n",
       "      <td>2022-12-18</td>\n",
       "      <td>Argentina</td>\n",
       "      <td>France</td>\n",
       "      <td>88.86</td>\n",
       "      <td>88.41</td>\n",
       "      <td>3</td>\n",
       "      <td>3</td>\n",
       "    </tr>\n",
       "  </tbody>\n",
       "</table>\n",
       "</div>"
      ],
      "text/plain": [
       "          date      team1   team2   spi1   spi2  score1  score2\n",
       "63  2022-12-18  Argentina  France  88.86  88.41       3       3"
      ]
     },
     "execution_count": null,
     "metadata": {},
     "output_type": "execute_result"
    }
   ],
   "source": [
    "df_final=df_use[63:64]\n",
    "df_final"
   ]
  },
  {
   "cell_type": "code",
   "execution_count": null,
   "metadata": {},
   "outputs": [
    {
     "data": {
      "text/plain": [
       "<seaborn.axisgrid.JointGrid>"
      ]
     },
     "execution_count": null,
     "metadata": {},
     "output_type": "execute_result"
    },
    {
     "data": {
      "image/png": "[encoded data removed]",
      "text/plain": [
       "<Figure size 600x600 with 3 Axes>"
      ]
     },
     "metadata": {},
     "output_type": "display_data"
    }
   ],
   "source": [
    "sns.jointplot(x='spi1', y='score1', data=df_groupStage, kind='reg')"
   ]
  },
  {
   "cell_type": "code",
   "execution_count": null,
   "metadata": {},
   "outputs": [
    {
     "data": {
      "text/plain": [
       "<seaborn.axisgrid.JointGrid>"
      ]
     },
     "execution_count": null,
     "metadata": {},
     "output_type": "execute_result"
    },
    {
     "data": {
      "image/png": "[encoded data removed]",
      "text/plain": [
       "<Figure size 600x600 with 3 Axes>"
      ]
     },
     "metadata": {},
     "output_type": "display_data"
    }
   ],
   "source": [
    "sns.jointplot(x='spi2', y='score2', data=df_groupStage, kind='reg')"
   ]
  },
  {
   "cell_type": "code",
   "execution_count": null,
   "metadata": {},
   "outputs": [],
   "source": [
    "#The two graphs above show that spi is proportional to score."
   ]
  },
  {
   "cell_type": "code",
   "execution_count": null,
   "metadata": {},
   "outputs": [
    {
     "name": "stdout",
     "output_type": "stream",
     "text": [
      "147.91583333333335\n"
     ]
    }
   ],
   "source": [
    "groupstageSpi=df_groupStage[\"spi1\"]+df_groupStage[\"spi2\"]\n",
    "groupstageSpi=sum(groupstageSpi)/len(groupstageSpi)\n",
    "print(groupstageSpi)"
   ]
  },
  {
   "cell_type": "code",
   "execution_count": null,
   "metadata": {},
   "outputs": [
    {
     "name": "stdout",
     "output_type": "stream",
     "text": [
      "157.9425\n"
     ]
    }
   ],
   "source": [
    "roundOSixteenSpi=df_roundOSixteen[\"spi1\"]+df_roundOSixteen[\"spi2\"]\n",
    "roundOSixteenSpi=sum(roundOSixteenSpi)/len(roundOSixteenSpi)\n",
    "print(roundOSixteenSpi)"
   ]
  },
  {
   "cell_type": "code",
   "execution_count": null,
   "metadata": {},
   "outputs": [
    {
     "data": {
      "text/plain": [
       "170.365"
      ]
     },
     "execution_count": null,
     "metadata": {},
     "output_type": "execute_result"
    }
   ],
   "source": [
    "quarterFinalspi=df_quarterFinals[\"spi1\"]+df_quarterFinals[\"spi2\"]\n",
    "quarterFinalspi=sum(quarterFinalspi)/len(quarterFinalspi)\n",
    "quarterFinalspi"
   ]
  },
  {
   "cell_type": "code",
   "execution_count": null,
   "metadata": {},
   "outputs": [
    {
     "name": "stdout",
     "output_type": "stream",
     "text": [
      "164.83999999999997\n"
     ]
    }
   ],
   "source": [
    "semifinalspi=df_semifinal[\"spi1\"]+df_semifinal[\"spi2\"]\n",
    "semifinalspi=sum(semifinalspi)/len(semifinalspi)\n",
    "print(semifinalspi)"
   ]
  },
  {
   "cell_type": "code",
   "execution_count": null,
   "metadata": {},
   "outputs": [
    {
     "name": "stdout",
     "output_type": "stream",
     "text": [
      "151.57\n"
     ]
    }
   ],
   "source": [
    "ThirdPlaceMatchspi=df_ThirdPlaceMatch[\"spi1\"]+df_ThirdPlaceMatch[\"spi2\"]\n",
    "ThirdPlaceMatchspi=sum(ThirdPlaceMatchspi)/len(ThirdPlaceMatchspi)\n",
    "print(ThirdPlaceMatchspi)"
   ]
  },
  {
   "cell_type": "code",
   "execution_count": null,
   "metadata": {},
   "outputs": [
    {
     "name": "stdout",
     "output_type": "stream",
     "text": [
      "177.26999999999998\n"
     ]
    }
   ],
   "source": [
    "finalspi=df_final[\"spi1\"]+df_final[\"spi2\"]\n",
    "finalspi=sum(finalspi)/len(finalspi)\n",
    "print(finalspi)"
   ]
  },
  {
   "cell_type": "code",
   "execution_count": null,
   "metadata": {},
   "outputs": [],
   "source": [
    "import pandas as pd"
   ]
  },
  {
   "cell_type": "code",
   "execution_count": null,
   "metadata": {},
   "outputs": [
    {
     "data": {
      "text/html": [
       "<div>\n",
       "<style scoped>\n",
       "    .dataframe tbody tr th:only-of-type {\n",
       "        vertical-align: middle;\n",
       "    }\n",
       "\n",
       "    .dataframe tbody tr th {\n",
       "        vertical-align: top;\n",
       "    }\n",
       "\n",
       "    .dataframe thead th {\n",
       "        text-align: right;\n",
       "    }\n",
       "</style>\n",
       "<table border=\"1\" class=\"dataframe\">\n",
       "  <thead>\n",
       "    <tr style=\"text-align: right;\">\n",
       "      <th></th>\n",
       "      <th>Game Process</th>\n",
       "      <th>average spi</th>\n",
       "    </tr>\n",
       "  </thead>\n",
       "  <tbody>\n",
       "    <tr>\n",
       "      <th>0</th>\n",
       "      <td>groupstage</td>\n",
       "      <td>147.915833</td>\n",
       "    </tr>\n",
       "    <tr>\n",
       "      <th>1</th>\n",
       "      <td>round of 16</td>\n",
       "      <td>157.942500</td>\n",
       "    </tr>\n",
       "    <tr>\n",
       "      <th>2</th>\n",
       "      <td>quarter final</td>\n",
       "      <td>170.365000</td>\n",
       "    </tr>\n",
       "    <tr>\n",
       "      <th>3</th>\n",
       "      <td>semi final</td>\n",
       "      <td>164.839000</td>\n",
       "    </tr>\n",
       "    <tr>\n",
       "      <th>4</th>\n",
       "      <td>thitd place match</td>\n",
       "      <td>151.570000</td>\n",
       "    </tr>\n",
       "    <tr>\n",
       "      <th>5</th>\n",
       "      <td>final</td>\n",
       "      <td>177.269000</td>\n",
       "    </tr>\n",
       "  </tbody>\n",
       "</table>\n",
       "</div>"
      ],
      "text/plain": [
       "        Game Process  average spi\n",
       "0         groupstage   147.915833\n",
       "1        round of 16   157.942500\n",
       "2      quarter final   170.365000\n",
       "3         semi final   164.839000\n",
       "4  thitd place match   151.570000\n",
       "5              final   177.269000"
      ]
     },
     "execution_count": null,
     "metadata": {},
     "output_type": "execute_result"
    }
   ],
   "source": [
    "data={'Game Process':['groupstage','round of 16','quarter final','semi final','thitd place match','final'],'average spi':[147.91583333333335,157.9425\n",
    ",170.365,164.839,151.57,177.269]}\n",
    "averagespi=pd.DataFrame(data, columns=['Game Process','average spi'])\n",
    "averagespi"
   ]
  },
  {
   "cell_type": "code",
   "execution_count": null,
   "metadata": {},
   "outputs": [
    {
     "data": {
      "text/plain": [
       "<Axes: xlabel='Game Process', ylabel='average spi'>"
      ]
     },
     "execution_count": null,
     "metadata": {},
     "output_type": "execute_result"
    },
    {
     "data": {
      "image/png": "[encoded data removed]",
      "text/plain": [
       "<Figure size 640x480 with 1 Axes>"
      ]
     },
     "metadata": {},
     "output_type": "display_data"
    }
   ],
   "source": [
    "import seaborn as sns\n",
    "sns.lineplot(data=averagespi, x=\"Game Process\", y=\"average spi\")"
   ]
  },
  {
   "cell_type": "markdown",
   "metadata": {},
   "source": [
    "#### The mean value of spi increased with the change of the schedule, but gradually decreased in the semi final and third place march, which may be related to the decrease of spi with the score of the team."
   ]
  },
  {
   "cell_type": "markdown",
   "metadata": {},
   "source": [
    "#### Refine your research questions:  Through EDA,  I have a general arrangement of my data and a general understanding of the relationship between columns. I will continue  to further study my research qestion.  It focuses on the relationship between spi and score ratio, and how spi fluctuates with scores."
   ]
  },
  {
   "cell_type": "code",
   "execution_count": null,
   "metadata": {},
   "outputs": [],
   "source": []
  }
 ],
 "metadata": {
  "kernelspec": {
   "display_name": "Python 3 (ipykernel)",
   "language": "python",
   "name": "python3"
  }
 },
 "nbformat": 4,
 "nbformat_minor": 4
}
