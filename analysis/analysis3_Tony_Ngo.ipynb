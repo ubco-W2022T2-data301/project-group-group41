{
 "cells": [
  {
   "cell_type": "markdown",
   "metadata": {},
   "source": [
    "# Tony Ngo"
   ]
  },
  {
   "cell_type": "markdown",
   "metadata": {},
   "source": [
    "## Research question/interests\n",
    "\n",
    "Can we identify any patterns or trends in the data that may help to explain why certain teams are more successful than others in the World Cup?"
   ]
  },
  {
   "cell_type": "code",
   "execution_count": null,
   "metadata": {},
   "outputs": [
    {
     "name": "stdout",
     "output_type": "stream",
     "text": [
      "         forecast_timestamp     team group       spi  global_o  global_d  \\\n",
      "1   2022-12-18 17:56:03 UTC   France     D  88.30043   2.96765   0.54381   \n",
      "4   2022-12-18 17:56:03 UTC  England     B  87.82131   2.71564   0.44261   \n",
      "7   2022-12-18 17:56:03 UTC   Brazil     G  93.18946   3.12200   0.28266   \n",
      "13  2022-12-18 17:56:03 UTC    Spain     E  88.50675   2.59723   0.34458   \n",
      "16  2022-12-18 17:56:03 UTC  Germany     E  89.95279   3.42799   0.66808   \n",
      "\n",
      "    sim_wins  sim_ties  sim_losses  sim_goal_diff  ...  group_1  group_2  \\\n",
      "1        2.0       0.0         1.0            3.0  ...      1.0      0.0   \n",
      "4        2.0       1.0         0.0            7.0  ...      1.0      0.0   \n",
      "7        2.0       0.0         1.0            2.0  ...      1.0      0.0   \n",
      "13       1.0       1.0         1.0            6.0  ...      0.0      1.0   \n",
      "16       1.0       1.0         1.0            1.0  ...      0.0      0.0   \n",
      "\n",
      "    group_3  group_4  make_round_of_16  make_quarters  make_semis  make_final  \\\n",
      "1       0.0      0.0               1.0            1.0         1.0         1.0   \n",
      "4       0.0      0.0               1.0            1.0         0.0         0.0   \n",
      "7       0.0      0.0               1.0            1.0         0.0         0.0   \n",
      "13      0.0      0.0               1.0            0.0         0.0         0.0   \n",
      "16      1.0      0.0               0.0            0.0         0.0         0.0   \n",
      "\n",
      "    win_league                timestamp  \n",
      "1          0.0  2022-12-18 17:56:44 UTC  \n",
      "4          0.0  2022-12-18 17:56:44 UTC  \n",
      "7          0.0  2022-12-18 17:56:44 UTC  \n",
      "13         0.0  2022-12-18 17:56:44 UTC  \n",
      "16         0.0  2022-12-18 17:56:44 UTC  \n",
      "\n",
      "[5 rows x 22 columns]\n"
     ]
    }
   ],
   "source": [
    "import pandas as pd\n",
    "\n",
    "linkP = \"https://projects.fivethirtyeight.com/soccer-api/international/2022/wc_forecasts.csv\"\n",
    "\n",
    "dfP = pd.read_csv(linkP)\n",
    "\n",
    "top_6_teams = ['Brazil', 'France', 'Spain', 'England', 'Germany', 'Belgium']\n",
    "\n",
    "df_top6 = dfP[dfP['team'].isin(top_6_teams)]\n",
    "\n",
    "print(df_top6.head())\n",
    "\n",
    "\n",
    " \n",
    "\n"
   ]
  },
  {
   "cell_type": "markdown",
   "metadata": {},
   "source": [
    "The code above reads in the wc_forecasts.csv dataframe from the FiveThirtyEight website, and creates a list of the top 6 teams based on their chances of winning the World Cup. The code then filters the dfP dataframe to include only the rows for these top 6 teams using the isin() method, and stores the resulting dataframe in df_top6.\n",
    "\n",
    "The head() method is then used to display the first five rows of the resulting dataframe, which contains information about each team's chances of winning the World Cup and other metrics. From here, you can start analyzing the data to identify any patterns or trends that may explain why certain teams are more successful than others in the World Cup."
   ]
  }
 ],
 "metadata": {
  "kernelspec": {
   "display_name": "Python 3",
   "language": "python",
   "name": "python3"
  },
  "language_info": {
   "name": "python",
   "version": "3.9.6"
  },
  "vscode": {
   "interpreter": {
    "hash": "31f2aee4e71d21fbe5cf8b01ff0e069b9275f58929596ceb00d14d90e3e16cd6"
   }
  }
 },
 "nbformat": 4,
 "nbformat_minor": 4
}
