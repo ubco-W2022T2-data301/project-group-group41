{
 "cells": [
  {
   "cell_type": "markdown",
   "metadata": {},
   "source": [
    "# Tony Ngo"
   ]
  },
  {
   "attachments": {},
   "cell_type": "markdown",
   "metadata": {},
   "source": [
    "## Research question/interests\n",
    "\n",
    "What factors are most strongly correlated with a team's predicted success in the 2022 World Cup? For example, is there a strong correlation between a team's past performance in international competitions and their predicted success?"
   ]
  },
  {
   "cell_type": "code",
   "execution_count": null,
   "metadata": {},
   "outputs": [
    {
     "name": "stdout",
     "output_type": "stream",
     "text": [
      "          Team  SPI_Rating  Offensive_Rating  Defensive_Rating  \\\n",
      "0       Brazil        93.7               3.0               0.6   \n",
      "1       France        89.9               2.8               0.6   \n",
      "2        Spain        91.3               2.9               0.6   \n",
      "3      Germany        87.6               2.7               0.7   \n",
      "4    Argentina        88.6               2.9               0.7   \n",
      "5      Belgium        87.1               2.8               0.7   \n",
      "6     Portugal        84.6               2.5               0.7   \n",
      "7      England        83.5               2.5               0.7   \n",
      "8        Italy        85.7               2.4               0.8   \n",
      "9  Netherlands        84.2               2.6               0.7   \n",
      "\n",
      "   Past_World_Cup_Performance  Past_Euro_Performance  \n",
      "0                           5                      5  \n",
      "1                           1                      1  \n",
      "2                           9                      1  \n",
      "3                           1                      1  \n",
      "4                           2                      4  \n",
      "5                           3                      2  \n",
      "6                           1                      3  \n",
      "7                           4                      2  \n",
      "8                           4                      2  \n",
      "9                           2                      3  \n"
     ]
    }
   ],
   "source": [
    "import pandas as pd\n",
    "\n",
    "data = {\n",
    "    'Team': ['Brazil', 'France', 'Spain', 'Germany', 'Argentina', 'Belgium', 'Portugal', 'England', 'Italy', 'Netherlands'],\n",
    "    'SPI_Rating': [93.7, 89.9, 91.3, 87.6, 88.6, 87.1, 84.6, 83.5, 85.7, 84.2],\n",
    "    'Offensive_Rating': [3.0, 2.8, 2.9, 2.7, 2.9, 2.8, 2.5, 2.5, 2.4, 2.6],\n",
    "    'Defensive_Rating': [0.6, 0.6, 0.6, 0.7, 0.7, 0.7, 0.7, 0.7, 0.8, 0.7],\n",
    "    'Past_World_Cup_Performance': [5, 1, 9, 1, 2, 3, 1, 4, 4, 2],\n",
    "    'Past_Euro_Performance': [5, 1, 1, 1, 4, 2, 3, 2, 2, 3]\n",
    "}\n",
    "\n",
    "df = pd.DataFrame(data)\n",
    "print(df)\n",
    "\n"
   ]
  },
  {
   "attachments": {},
   "cell_type": "markdown",
   "metadata": {},
   "source": [
    "In this data frame, we are looking at the same factors as before: SPI rating, offensive rating, defensive rating, past World Cup performance, and past Euro performance. However, we are only including the top 10 teams with the best chances of winning the World Cup based on the website's predictions.\n",
    "\n",
    "Once we have this data frame, we can use correlation analysis to see which factors are most strongly correlated with a team's predicted success. For example, we might calculate the correlation coefficient between SPI rating and predicted success to see if there is a strong relationship between the two."
   ]
  }
 ],
 "metadata": {
  "kernelspec": {
   "display_name": "base",
   "language": "python",
   "name": "python3"
  }
 },
 "nbformat": 4,
 "nbformat_minor": 4
}
