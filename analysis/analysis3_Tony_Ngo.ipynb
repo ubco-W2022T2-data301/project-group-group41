{
 "cells": [
  {
   "cell_type": "markdown",
   "metadata": {},
   "source": [
    "# Tony Ngo"
   ]
  },
  {
   "cell_type": "markdown",
   "metadata": {},
   "source": [
    "## Research question/interests:\n",
    "\n",
    "How does expected goals (xG) impact a team's chance of winning a match in the World Cup?\n",
    "\n",
    "\n",
    "**Other potential ideas that will support further and more in-depth research analysis:**\n",
    "\n",
    "Is there a correlation between the number of expected goals (xG) a team has and their success in the tournament?\n",
    "How do differences in expected goals (xG) between opposing teams affect the outcome of a match in the World Cup?\n",
    "Can teams with lower expected goals (xG) still perform well and win matches in the World Cup?\n",
    "How do individual player statistics, such as shots on target and assists, relate to a team's expected goals (xG) and success in the World Cup?\n",
    "\n",
    "\n",
    "**Explain how you plan to answer your research question with your dataset, and a rough analysis plan**\n",
    "\n",
    "To investigate how expected goals (xG) impact a team's chance of winning a match in the World Cup using the provided dataset, I would perform the following steps:\n",
    "\n",
    "Import the two datasets provided (wc_matches.csv and wc_forecasts.csv).\n",
    "\n",
    "Merge the two datasets on the match ID to create a single dataset that contains both match and forecast data.\n",
    "\n",
    "Calculate the xG for each team in each match using the shot data provided in the wc_matches.csv dataset.\n",
    "\n",
    "Use the xG values to determine which team was expected to win each match according to the forecast data in the wc_forecasts.csv dataset.\n",
    "\n",
    "Calculate the actual win/loss/draw outcome for each match.\n",
    "\n",
    "Compare the expected win/loss/draw outcomes to the actual outcomes to determine how accurately xG predicts match outcomes.\n",
    "\n",
    "Calculate the correlation between xG and actual match outcomes to quantify the impact of xG on a team's chance of winning a match in the World Cup.\n",
    "\n",
    "Perform additional analyses such as comparing the impact of xG on teams from different regions or at different stages of the tournament.\n",
    "\n",
    "Based on the results of these analyses, we should be able to gain insights into how important xG is for predicting match outcomes in the World Cup, as well as how it may differ for teams from different regions or at different stages of the tournament."
   ]
  },
  {
   "cell_type": "code",
   "execution_count": null,
   "metadata": {},
   "outputs": [],
   "source": [
    "import pandas as pd\n",
    "df=pd.read_csv(\"https://projects.fivethirtyeight.com/soccer-api/international/2022/wc_matches.csv\")\n",
    "     \n",
    "\n",
    "df_use=df[['team1','team2','spi1','spi2','score1','score2','xg1','xg2','nsxg1','nsxg2','adj_score1','adj_score2']]\n",
    "  \n",
    "df=pd.read_csv(\"https://projects.fivethirtyeight.com/soccer-api/international/2022/wc_forecasts.csv\")\n",
    "df_use=df[['team','spi','global_o','global_d','sim_wins','sim_ties','sim_losses','sim_goal_diff','goals_scored','goals_against','group_1','group_2','group_3','group_4','make_round_of_16','make_quarters','make_semis','make_final','win_league']]\n",
    "\n",
    "\n",
    "\n",
    "\n",
    "\n",
    "\n",
    "\n",
    "\n",
    "\n",
    "\n",
    "\n",
    "\n",
    " \n",
    "\n"
   ]
  },
  {
   "cell_type": "markdown",
   "metadata": {},
   "source": []
  }
 ],
 "metadata": {
  "kernelspec": {
   "display_name": "Python 3 (ipykernel)",
   "language": "python",
   "name": "python3"
  }
 },
 "nbformat": 4,
 "nbformat_minor": 4
}
